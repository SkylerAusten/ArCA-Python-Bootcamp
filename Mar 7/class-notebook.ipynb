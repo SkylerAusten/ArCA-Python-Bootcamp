{
 "cells": [
  {
   "cell_type": "code",
   "execution_count": 80,
   "metadata": {},
   "outputs": [],
   "source": [
    "# Notebooks\n",
    "# Dictionary Review\n",
    "# CSV\n",
    "# Adding a new block\n",
    "# Dist Plots\n",
    "# Radar Charts\n",
    "# Scatter Plots\n",
    "# Bar Charts\n",
    "# Line Charts"
   ]
  },
  {
   "cell_type": "code",
   "execution_count": 32,
   "metadata": {},
   "outputs": [
    {
     "data": {
      "text/html": [
       "        <script type=\"text/javascript\">\n",
       "        window.PlotlyConfig = {MathJaxConfig: 'local'};\n",
       "        if (window.MathJax && window.MathJax.Hub && window.MathJax.Hub.Config) {window.MathJax.Hub.Config({SVG: {font: \"STIX-Web\"}});}\n",
       "        if (typeof require !== 'undefined') {\n",
       "        require.undef(\"plotly\");\n",
       "        requirejs.config({\n",
       "            paths: {\n",
       "                'plotly': ['https://cdn.plot.ly/plotly-2.18.2.min']\n",
       "            }\n",
       "        });\n",
       "        require(['plotly'], function(Plotly) {\n",
       "            window._Plotly = Plotly;\n",
       "        });\n",
       "        }\n",
       "        </script>\n",
       "        "
      ]
     },
     "metadata": {},
     "output_type": "display_data"
    }
   ],
   "source": [
    "# TODO: -m pip install plotly\n",
    "# TODO: -m pip install scipy\n",
    "# TODO: -m pip install nbformat\n",
    "# TODO: -m pip install --upgrade nbformat\n",
    "\n",
    "import numpy as np # linear algebra\n",
    "import pandas as pd # data processing, CSV file I/O (e.g. pd.read_csv)\n",
    "import matplotlib.pyplot as plt # Lots of visualizations\n",
    "import plotly.figure_factory as ff # Really nice scientific graphics.\n",
    "import plotly.graph_objs as go # Ditto\n",
    "from IPython.display import HTML # Render graphs & charts as HTML (will come in handy!)\n",
    "from plotly.offline import init_notebook_mode, iplot # No need for a webserver, renders in iframe.\n",
    "import scipy # Data analysis, used within other libraries here.\n",
    "\n",
    "# TODO: Review: what is HTML?\n",
    "\n",
    "init_notebook_mode(connected=True)"
   ]
  },
  {
   "cell_type": "code",
   "execution_count": 33,
   "metadata": {},
   "outputs": [],
   "source": [
    "colors = {\n",
    "    \"bug\": \"#A6B91A\",\n",
    "    \"dark\": \"#705746\",\n",
    "    \"dragon\": \"#6F35FC\",\n",
    "    \"electric\": \"#F7D02C\",\n",
    "    \"fairy\": \"#D685AD\",\n",
    "    \"fighting\": \"#C22E28\",\n",
    "    \"fire\": \"#EE8130\",\n",
    "    \"flying\": \"#A98FF3\",\n",
    "    \"ghost\": \"#735797\",\n",
    "    \"grass\": \"#7AC74C\",\n",
    "    \"ground\": \"#E2BF65\",\n",
    "    \"ice\": \"#96D9D6\",\n",
    "    \"normal\": \"#A8A77A\",\n",
    "    \"poison\": \"#A33EA1\",\n",
    "    \"psychic\": \"#F95587\",\n",
    "    \"rock\": \"#B6A136\",\n",
    "    \"steel\": \"#B7B7CE\",\n",
    "    \"water\": \"#6390F0\",\n",
    "}\n",
    "\n",
    "# TODO: How would I insert another type, \"imaginary,\" & hex code, \"#000000,\" to this after it runs?"
   ]
  },
  {
   "cell_type": "code",
   "execution_count": 34,
   "metadata": {},
   "outputs": [],
   "source": [
    "pokemon = pd.read_csv(\"pokemon.csv\")\n",
    "\n",
    "# TODO: How can we check we've imported our data properly?\n",
    "# TODO: What is the first pokemon in our data set?"
   ]
  },
  {
   "cell_type": "code",
   "execution_count": 35,
   "metadata": {},
   "outputs": [
    {
     "ename": "SyntaxError",
     "evalue": "invalid syntax (194068681.py, line 1)",
     "output_type": "error",
     "traceback": [
      "\u001b[1;36m  Cell \u001b[1;32mIn[35], line 1\u001b[1;36m\u001b[0m\n\u001b[1;33m    single_distplot = ff.create_distplot([pokemon.\"?\"], ['?'], bin_size=\"?\")\u001b[0m\n\u001b[1;37m                                                  ^\u001b[0m\n\u001b[1;31mSyntaxError\u001b[0m\u001b[1;31m:\u001b[0m invalid syntax\n"
     ]
    }
   ],
   "source": [
    "single_distplot = ff.create_distplot([pokemon.\"?\"], ['?'], bin_size=\"?\")\n",
    "iplot(single_distplot, filename='HP Distplot')\n",
    "\n",
    "# TODO: What does the bin size change?\n",
    "# TODO: How do we display multiple stats?"
   ]
  },
  {
   "cell_type": "code",
   "execution_count": null,
   "metadata": {},
   "outputs": [],
   "source": [
    "def radar_chart(display_name):\n",
    "    display_pokemon = pokemon[pokemon.name == display_name]\n",
    "\n",
    "    chart = go.Scatterpolar(\n",
    "        # Values\n",
    "        r=[\n",
    "            display_pokemon['attack'].values[0],\n",
    "            display_pokemon['defense'].values[0],\n",
    "            display_pokemon['sp_attack'].values[0],\n",
    "            display_pokemon['sp_defense'].values[0],\n",
    "            display_pokemon['speed'].values[0],\n",
    "            display_pokemon['hp'].values[0]\n",
    "        ],\n",
    "        \n",
    "        # Label\n",
    "        theta=[\n",
    "            'HP', 'Attack', 'Defense', 'Sp. Atk', 'Sp. Def', 'Speed', 'HP'\n",
    "        ],\n",
    "\n",
    "        # How to Fill Display\n",
    "        fill='toself',\n",
    "\n",
    "        # Color based on Type\n",
    "        marker=dict(\n",
    "            color=colors[display_pokemon['type1'].values[0]]\n",
    "        ),\n",
    "\n",
    "        # Pokemon Name\n",
    "        name=display_pokemon['name'].values[0]\n",
    "    )\n",
    "\n",
    "    return chart\n",
    "\n",
    "# TODO: Why r?\n",
    "# TODO: Why theta?\n",
    "# TODO: How would you set it so it only uses one color?"
   ]
  },
  {
   "cell_type": "code",
   "execution_count": null,
   "metadata": {},
   "outputs": [
    {
     "data": {
      "application/vnd.plotly.v1+json": {
       "config": {
        "linkText": "Export to plot.ly",
        "plotlyServerURL": "https://plot.ly",
        "showLink": false
       },
       "data": [
        {
         "fill": "toself",
         "marker": {
          "color": "#EE8130"
         },
         "name": "Charmander",
         "r": [
          52,
          43,
          60,
          50,
          65,
          39
         ],
         "theta": [
          "HP",
          "Attack",
          "Defense",
          "Sp. Atk",
          "Sp. Def",
          "Speed",
          "HP"
         ],
         "type": "scatterpolar"
        }
       ],
       "layout": {
        "polar": {
         "radialaxis": {
          "range": [
           0,
           250
          ],
          "visible": true
         }
        },
        "showlegend": false,
        "template": {
         "data": {
          "bar": [
           {
            "error_x": {
             "color": "#2a3f5f"
            },
            "error_y": {
             "color": "#2a3f5f"
            },
            "marker": {
             "line": {
              "color": "#E5ECF6",
              "width": 0.5
             },
             "pattern": {
              "fillmode": "overlay",
              "size": 10,
              "solidity": 0.2
             }
            },
            "type": "bar"
           }
          ],
          "barpolar": [
           {
            "marker": {
             "line": {
              "color": "#E5ECF6",
              "width": 0.5
             },
             "pattern": {
              "fillmode": "overlay",
              "size": 10,
              "solidity": 0.2
             }
            },
            "type": "barpolar"
           }
          ],
          "carpet": [
           {
            "aaxis": {
             "endlinecolor": "#2a3f5f",
             "gridcolor": "white",
             "linecolor": "white",
             "minorgridcolor": "white",
             "startlinecolor": "#2a3f5f"
            },
            "baxis": {
             "endlinecolor": "#2a3f5f",
             "gridcolor": "white",
             "linecolor": "white",
             "minorgridcolor": "white",
             "startlinecolor": "#2a3f5f"
            },
            "type": "carpet"
           }
          ],
          "choropleth": [
           {
            "colorbar": {
             "outlinewidth": 0,
             "ticks": ""
            },
            "type": "choropleth"
           }
          ],
          "contour": [
           {
            "colorbar": {
             "outlinewidth": 0,
             "ticks": ""
            },
            "colorscale": [
             [
              0,
              "#0d0887"
             ],
             [
              0.1111111111111111,
              "#46039f"
             ],
             [
              0.2222222222222222,
              "#7201a8"
             ],
             [
              0.3333333333333333,
              "#9c179e"
             ],
             [
              0.4444444444444444,
              "#bd3786"
             ],
             [
              0.5555555555555556,
              "#d8576b"
             ],
             [
              0.6666666666666666,
              "#ed7953"
             ],
             [
              0.7777777777777778,
              "#fb9f3a"
             ],
             [
              0.8888888888888888,
              "#fdca26"
             ],
             [
              1,
              "#f0f921"
             ]
            ],
            "type": "contour"
           }
          ],
          "contourcarpet": [
           {
            "colorbar": {
             "outlinewidth": 0,
             "ticks": ""
            },
            "type": "contourcarpet"
           }
          ],
          "heatmap": [
           {
            "colorbar": {
             "outlinewidth": 0,
             "ticks": ""
            },
            "colorscale": [
             [
              0,
              "#0d0887"
             ],
             [
              0.1111111111111111,
              "#46039f"
             ],
             [
              0.2222222222222222,
              "#7201a8"
             ],
             [
              0.3333333333333333,
              "#9c179e"
             ],
             [
              0.4444444444444444,
              "#bd3786"
             ],
             [
              0.5555555555555556,
              "#d8576b"
             ],
             [
              0.6666666666666666,
              "#ed7953"
             ],
             [
              0.7777777777777778,
              "#fb9f3a"
             ],
             [
              0.8888888888888888,
              "#fdca26"
             ],
             [
              1,
              "#f0f921"
             ]
            ],
            "type": "heatmap"
           }
          ],
          "heatmapgl": [
           {
            "colorbar": {
             "outlinewidth": 0,
             "ticks": ""
            },
            "colorscale": [
             [
              0,
              "#0d0887"
             ],
             [
              0.1111111111111111,
              "#46039f"
             ],
             [
              0.2222222222222222,
              "#7201a8"
             ],
             [
              0.3333333333333333,
              "#9c179e"
             ],
             [
              0.4444444444444444,
              "#bd3786"
             ],
             [
              0.5555555555555556,
              "#d8576b"
             ],
             [
              0.6666666666666666,
              "#ed7953"
             ],
             [
              0.7777777777777778,
              "#fb9f3a"
             ],
             [
              0.8888888888888888,
              "#fdca26"
             ],
             [
              1,
              "#f0f921"
             ]
            ],
            "type": "heatmapgl"
           }
          ],
          "histogram": [
           {
            "marker": {
             "pattern": {
              "fillmode": "overlay",
              "size": 10,
              "solidity": 0.2
             }
            },
            "type": "histogram"
           }
          ],
          "histogram2d": [
           {
            "colorbar": {
             "outlinewidth": 0,
             "ticks": ""
            },
            "colorscale": [
             [
              0,
              "#0d0887"
             ],
             [
              0.1111111111111111,
              "#46039f"
             ],
             [
              0.2222222222222222,
              "#7201a8"
             ],
             [
              0.3333333333333333,
              "#9c179e"
             ],
             [
              0.4444444444444444,
              "#bd3786"
             ],
             [
              0.5555555555555556,
              "#d8576b"
             ],
             [
              0.6666666666666666,
              "#ed7953"
             ],
             [
              0.7777777777777778,
              "#fb9f3a"
             ],
             [
              0.8888888888888888,
              "#fdca26"
             ],
             [
              1,
              "#f0f921"
             ]
            ],
            "type": "histogram2d"
           }
          ],
          "histogram2dcontour": [
           {
            "colorbar": {
             "outlinewidth": 0,
             "ticks": ""
            },
            "colorscale": [
             [
              0,
              "#0d0887"
             ],
             [
              0.1111111111111111,
              "#46039f"
             ],
             [
              0.2222222222222222,
              "#7201a8"
             ],
             [
              0.3333333333333333,
              "#9c179e"
             ],
             [
              0.4444444444444444,
              "#bd3786"
             ],
             [
              0.5555555555555556,
              "#d8576b"
             ],
             [
              0.6666666666666666,
              "#ed7953"
             ],
             [
              0.7777777777777778,
              "#fb9f3a"
             ],
             [
              0.8888888888888888,
              "#fdca26"
             ],
             [
              1,
              "#f0f921"
             ]
            ],
            "type": "histogram2dcontour"
           }
          ],
          "mesh3d": [
           {
            "colorbar": {
             "outlinewidth": 0,
             "ticks": ""
            },
            "type": "mesh3d"
           }
          ],
          "parcoords": [
           {
            "line": {
             "colorbar": {
              "outlinewidth": 0,
              "ticks": ""
             }
            },
            "type": "parcoords"
           }
          ],
          "pie": [
           {
            "automargin": true,
            "type": "pie"
           }
          ],
          "scatter": [
           {
            "fillpattern": {
             "fillmode": "overlay",
             "size": 10,
             "solidity": 0.2
            },
            "type": "scatter"
           }
          ],
          "scatter3d": [
           {
            "line": {
             "colorbar": {
              "outlinewidth": 0,
              "ticks": ""
             }
            },
            "marker": {
             "colorbar": {
              "outlinewidth": 0,
              "ticks": ""
             }
            },
            "type": "scatter3d"
           }
          ],
          "scattercarpet": [
           {
            "marker": {
             "colorbar": {
              "outlinewidth": 0,
              "ticks": ""
             }
            },
            "type": "scattercarpet"
           }
          ],
          "scattergeo": [
           {
            "marker": {
             "colorbar": {
              "outlinewidth": 0,
              "ticks": ""
             }
            },
            "type": "scattergeo"
           }
          ],
          "scattergl": [
           {
            "marker": {
             "colorbar": {
              "outlinewidth": 0,
              "ticks": ""
             }
            },
            "type": "scattergl"
           }
          ],
          "scattermapbox": [
           {
            "marker": {
             "colorbar": {
              "outlinewidth": 0,
              "ticks": ""
             }
            },
            "type": "scattermapbox"
           }
          ],
          "scatterpolar": [
           {
            "marker": {
             "colorbar": {
              "outlinewidth": 0,
              "ticks": ""
             }
            },
            "type": "scatterpolar"
           }
          ],
          "scatterpolargl": [
           {
            "marker": {
             "colorbar": {
              "outlinewidth": 0,
              "ticks": ""
             }
            },
            "type": "scatterpolargl"
           }
          ],
          "scatterternary": [
           {
            "marker": {
             "colorbar": {
              "outlinewidth": 0,
              "ticks": ""
             }
            },
            "type": "scatterternary"
           }
          ],
          "surface": [
           {
            "colorbar": {
             "outlinewidth": 0,
             "ticks": ""
            },
            "colorscale": [
             [
              0,
              "#0d0887"
             ],
             [
              0.1111111111111111,
              "#46039f"
             ],
             [
              0.2222222222222222,
              "#7201a8"
             ],
             [
              0.3333333333333333,
              "#9c179e"
             ],
             [
              0.4444444444444444,
              "#bd3786"
             ],
             [
              0.5555555555555556,
              "#d8576b"
             ],
             [
              0.6666666666666666,
              "#ed7953"
             ],
             [
              0.7777777777777778,
              "#fb9f3a"
             ],
             [
              0.8888888888888888,
              "#fdca26"
             ],
             [
              1,
              "#f0f921"
             ]
            ],
            "type": "surface"
           }
          ],
          "table": [
           {
            "cells": {
             "fill": {
              "color": "#EBF0F8"
             },
             "line": {
              "color": "white"
             }
            },
            "header": {
             "fill": {
              "color": "#C8D4E3"
             },
             "line": {
              "color": "white"
             }
            },
            "type": "table"
           }
          ]
         },
         "layout": {
          "annotationdefaults": {
           "arrowcolor": "#2a3f5f",
           "arrowhead": 0,
           "arrowwidth": 1
          },
          "autotypenumbers": "strict",
          "coloraxis": {
           "colorbar": {
            "outlinewidth": 0,
            "ticks": ""
           }
          },
          "colorscale": {
           "diverging": [
            [
             0,
             "#8e0152"
            ],
            [
             0.1,
             "#c51b7d"
            ],
            [
             0.2,
             "#de77ae"
            ],
            [
             0.3,
             "#f1b6da"
            ],
            [
             0.4,
             "#fde0ef"
            ],
            [
             0.5,
             "#f7f7f7"
            ],
            [
             0.6,
             "#e6f5d0"
            ],
            [
             0.7,
             "#b8e186"
            ],
            [
             0.8,
             "#7fbc41"
            ],
            [
             0.9,
             "#4d9221"
            ],
            [
             1,
             "#276419"
            ]
           ],
           "sequential": [
            [
             0,
             "#0d0887"
            ],
            [
             0.1111111111111111,
             "#46039f"
            ],
            [
             0.2222222222222222,
             "#7201a8"
            ],
            [
             0.3333333333333333,
             "#9c179e"
            ],
            [
             0.4444444444444444,
             "#bd3786"
            ],
            [
             0.5555555555555556,
             "#d8576b"
            ],
            [
             0.6666666666666666,
             "#ed7953"
            ],
            [
             0.7777777777777778,
             "#fb9f3a"
            ],
            [
             0.8888888888888888,
             "#fdca26"
            ],
            [
             1,
             "#f0f921"
            ]
           ],
           "sequentialminus": [
            [
             0,
             "#0d0887"
            ],
            [
             0.1111111111111111,
             "#46039f"
            ],
            [
             0.2222222222222222,
             "#7201a8"
            ],
            [
             0.3333333333333333,
             "#9c179e"
            ],
            [
             0.4444444444444444,
             "#bd3786"
            ],
            [
             0.5555555555555556,
             "#d8576b"
            ],
            [
             0.6666666666666666,
             "#ed7953"
            ],
            [
             0.7777777777777778,
             "#fb9f3a"
            ],
            [
             0.8888888888888888,
             "#fdca26"
            ],
            [
             1,
             "#f0f921"
            ]
           ]
          },
          "colorway": [
           "#636efa",
           "#EF553B",
           "#00cc96",
           "#ab63fa",
           "#FFA15A",
           "#19d3f3",
           "#FF6692",
           "#B6E880",
           "#FF97FF",
           "#FECB52"
          ],
          "font": {
           "color": "#2a3f5f"
          },
          "geo": {
           "bgcolor": "white",
           "lakecolor": "white",
           "landcolor": "#E5ECF6",
           "showlakes": true,
           "showland": true,
           "subunitcolor": "white"
          },
          "hoverlabel": {
           "align": "left"
          },
          "hovermode": "closest",
          "mapbox": {
           "style": "light"
          },
          "paper_bgcolor": "white",
          "plot_bgcolor": "#E5ECF6",
          "polar": {
           "angularaxis": {
            "gridcolor": "white",
            "linecolor": "white",
            "ticks": ""
           },
           "bgcolor": "#E5ECF6",
           "radialaxis": {
            "gridcolor": "white",
            "linecolor": "white",
            "ticks": ""
           }
          },
          "scene": {
           "xaxis": {
            "backgroundcolor": "#E5ECF6",
            "gridcolor": "white",
            "gridwidth": 2,
            "linecolor": "white",
            "showbackground": true,
            "ticks": "",
            "zerolinecolor": "white"
           },
           "yaxis": {
            "backgroundcolor": "#E5ECF6",
            "gridcolor": "white",
            "gridwidth": 2,
            "linecolor": "white",
            "showbackground": true,
            "ticks": "",
            "zerolinecolor": "white"
           },
           "zaxis": {
            "backgroundcolor": "#E5ECF6",
            "gridcolor": "white",
            "gridwidth": 2,
            "linecolor": "white",
            "showbackground": true,
            "ticks": "",
            "zerolinecolor": "white"
           }
          },
          "shapedefaults": {
           "line": {
            "color": "#2a3f5f"
           }
          },
          "ternary": {
           "aaxis": {
            "gridcolor": "white",
            "linecolor": "white",
            "ticks": ""
           },
           "baxis": {
            "gridcolor": "white",
            "linecolor": "white",
            "ticks": ""
           },
           "bgcolor": "#E5ECF6",
           "caxis": {
            "gridcolor": "white",
            "linecolor": "white",
            "ticks": ""
           }
          },
          "title": {
           "x": 0.05
          },
          "xaxis": {
           "automargin": true,
           "gridcolor": "white",
           "linecolor": "white",
           "ticks": "",
           "title": {
            "standoff": 15
           },
           "zerolinecolor": "white",
           "zerolinewidth": 2
          },
          "yaxis": {
           "automargin": true,
           "gridcolor": "white",
           "linecolor": "white",
           "ticks": "",
           "title": {
            "standoff": 15
           },
           "zerolinecolor": "white",
           "zerolinewidth": 2
          }
         }
        },
        "title": {
         "text": "Stats of Charmander"
        }
       }
      },
      "text/html": [
       "<div>                            <div id=\"6eae030d-65ee-48c8-87bd-dcc22b5cddc3\" class=\"plotly-graph-div\" style=\"height:525px; width:100%;\"></div>            <script type=\"text/javascript\">                require([\"plotly\"], function(Plotly) {                    window.PLOTLYENV=window.PLOTLYENV || {};                                    if (document.getElementById(\"6eae030d-65ee-48c8-87bd-dcc22b5cddc3\")) {                    Plotly.newPlot(                        \"6eae030d-65ee-48c8-87bd-dcc22b5cddc3\",                        [{\"fill\":\"toself\",\"marker\":{\"color\":\"#EE8130\"},\"name\":\"Charmander\",\"r\":[52,43,60,50,65,39],\"theta\":[\"HP\",\"Attack\",\"Defense\",\"Sp. Atk\",\"Sp. Def\",\"Speed\",\"HP\"],\"type\":\"scatterpolar\"}],                        {\"polar\":{\"radialaxis\":{\"range\":[0,250],\"visible\":true}},\"showlegend\":false,\"template\":{\"data\":{\"barpolar\":[{\"marker\":{\"line\":{\"color\":\"#E5ECF6\",\"width\":0.5},\"pattern\":{\"fillmode\":\"overlay\",\"size\":10,\"solidity\":0.2}},\"type\":\"barpolar\"}],\"bar\":[{\"error_x\":{\"color\":\"#2a3f5f\"},\"error_y\":{\"color\":\"#2a3f5f\"},\"marker\":{\"line\":{\"color\":\"#E5ECF6\",\"width\":0.5},\"pattern\":{\"fillmode\":\"overlay\",\"size\":10,\"solidity\":0.2}},\"type\":\"bar\"}],\"carpet\":[{\"aaxis\":{\"endlinecolor\":\"#2a3f5f\",\"gridcolor\":\"white\",\"linecolor\":\"white\",\"minorgridcolor\":\"white\",\"startlinecolor\":\"#2a3f5f\"},\"baxis\":{\"endlinecolor\":\"#2a3f5f\",\"gridcolor\":\"white\",\"linecolor\":\"white\",\"minorgridcolor\":\"white\",\"startlinecolor\":\"#2a3f5f\"},\"type\":\"carpet\"}],\"choropleth\":[{\"colorbar\":{\"outlinewidth\":0,\"ticks\":\"\"},\"type\":\"choropleth\"}],\"contourcarpet\":[{\"colorbar\":{\"outlinewidth\":0,\"ticks\":\"\"},\"type\":\"contourcarpet\"}],\"contour\":[{\"colorbar\":{\"outlinewidth\":0,\"ticks\":\"\"},\"colorscale\":[[0.0,\"#0d0887\"],[0.1111111111111111,\"#46039f\"],[0.2222222222222222,\"#7201a8\"],[0.3333333333333333,\"#9c179e\"],[0.4444444444444444,\"#bd3786\"],[0.5555555555555556,\"#d8576b\"],[0.6666666666666666,\"#ed7953\"],[0.7777777777777778,\"#fb9f3a\"],[0.8888888888888888,\"#fdca26\"],[1.0,\"#f0f921\"]],\"type\":\"contour\"}],\"heatmapgl\":[{\"colorbar\":{\"outlinewidth\":0,\"ticks\":\"\"},\"colorscale\":[[0.0,\"#0d0887\"],[0.1111111111111111,\"#46039f\"],[0.2222222222222222,\"#7201a8\"],[0.3333333333333333,\"#9c179e\"],[0.4444444444444444,\"#bd3786\"],[0.5555555555555556,\"#d8576b\"],[0.6666666666666666,\"#ed7953\"],[0.7777777777777778,\"#fb9f3a\"],[0.8888888888888888,\"#fdca26\"],[1.0,\"#f0f921\"]],\"type\":\"heatmapgl\"}],\"heatmap\":[{\"colorbar\":{\"outlinewidth\":0,\"ticks\":\"\"},\"colorscale\":[[0.0,\"#0d0887\"],[0.1111111111111111,\"#46039f\"],[0.2222222222222222,\"#7201a8\"],[0.3333333333333333,\"#9c179e\"],[0.4444444444444444,\"#bd3786\"],[0.5555555555555556,\"#d8576b\"],[0.6666666666666666,\"#ed7953\"],[0.7777777777777778,\"#fb9f3a\"],[0.8888888888888888,\"#fdca26\"],[1.0,\"#f0f921\"]],\"type\":\"heatmap\"}],\"histogram2dcontour\":[{\"colorbar\":{\"outlinewidth\":0,\"ticks\":\"\"},\"colorscale\":[[0.0,\"#0d0887\"],[0.1111111111111111,\"#46039f\"],[0.2222222222222222,\"#7201a8\"],[0.3333333333333333,\"#9c179e\"],[0.4444444444444444,\"#bd3786\"],[0.5555555555555556,\"#d8576b\"],[0.6666666666666666,\"#ed7953\"],[0.7777777777777778,\"#fb9f3a\"],[0.8888888888888888,\"#fdca26\"],[1.0,\"#f0f921\"]],\"type\":\"histogram2dcontour\"}],\"histogram2d\":[{\"colorbar\":{\"outlinewidth\":0,\"ticks\":\"\"},\"colorscale\":[[0.0,\"#0d0887\"],[0.1111111111111111,\"#46039f\"],[0.2222222222222222,\"#7201a8\"],[0.3333333333333333,\"#9c179e\"],[0.4444444444444444,\"#bd3786\"],[0.5555555555555556,\"#d8576b\"],[0.6666666666666666,\"#ed7953\"],[0.7777777777777778,\"#fb9f3a\"],[0.8888888888888888,\"#fdca26\"],[1.0,\"#f0f921\"]],\"type\":\"histogram2d\"}],\"histogram\":[{\"marker\":{\"pattern\":{\"fillmode\":\"overlay\",\"size\":10,\"solidity\":0.2}},\"type\":\"histogram\"}],\"mesh3d\":[{\"colorbar\":{\"outlinewidth\":0,\"ticks\":\"\"},\"type\":\"mesh3d\"}],\"parcoords\":[{\"line\":{\"colorbar\":{\"outlinewidth\":0,\"ticks\":\"\"}},\"type\":\"parcoords\"}],\"pie\":[{\"automargin\":true,\"type\":\"pie\"}],\"scatter3d\":[{\"line\":{\"colorbar\":{\"outlinewidth\":0,\"ticks\":\"\"}},\"marker\":{\"colorbar\":{\"outlinewidth\":0,\"ticks\":\"\"}},\"type\":\"scatter3d\"}],\"scattercarpet\":[{\"marker\":{\"colorbar\":{\"outlinewidth\":0,\"ticks\":\"\"}},\"type\":\"scattercarpet\"}],\"scattergeo\":[{\"marker\":{\"colorbar\":{\"outlinewidth\":0,\"ticks\":\"\"}},\"type\":\"scattergeo\"}],\"scattergl\":[{\"marker\":{\"colorbar\":{\"outlinewidth\":0,\"ticks\":\"\"}},\"type\":\"scattergl\"}],\"scattermapbox\":[{\"marker\":{\"colorbar\":{\"outlinewidth\":0,\"ticks\":\"\"}},\"type\":\"scattermapbox\"}],\"scatterpolargl\":[{\"marker\":{\"colorbar\":{\"outlinewidth\":0,\"ticks\":\"\"}},\"type\":\"scatterpolargl\"}],\"scatterpolar\":[{\"marker\":{\"colorbar\":{\"outlinewidth\":0,\"ticks\":\"\"}},\"type\":\"scatterpolar\"}],\"scatter\":[{\"fillpattern\":{\"fillmode\":\"overlay\",\"size\":10,\"solidity\":0.2},\"type\":\"scatter\"}],\"scatterternary\":[{\"marker\":{\"colorbar\":{\"outlinewidth\":0,\"ticks\":\"\"}},\"type\":\"scatterternary\"}],\"surface\":[{\"colorbar\":{\"outlinewidth\":0,\"ticks\":\"\"},\"colorscale\":[[0.0,\"#0d0887\"],[0.1111111111111111,\"#46039f\"],[0.2222222222222222,\"#7201a8\"],[0.3333333333333333,\"#9c179e\"],[0.4444444444444444,\"#bd3786\"],[0.5555555555555556,\"#d8576b\"],[0.6666666666666666,\"#ed7953\"],[0.7777777777777778,\"#fb9f3a\"],[0.8888888888888888,\"#fdca26\"],[1.0,\"#f0f921\"]],\"type\":\"surface\"}],\"table\":[{\"cells\":{\"fill\":{\"color\":\"#EBF0F8\"},\"line\":{\"color\":\"white\"}},\"header\":{\"fill\":{\"color\":\"#C8D4E3\"},\"line\":{\"color\":\"white\"}},\"type\":\"table\"}]},\"layout\":{\"annotationdefaults\":{\"arrowcolor\":\"#2a3f5f\",\"arrowhead\":0,\"arrowwidth\":1},\"autotypenumbers\":\"strict\",\"coloraxis\":{\"colorbar\":{\"outlinewidth\":0,\"ticks\":\"\"}},\"colorscale\":{\"diverging\":[[0,\"#8e0152\"],[0.1,\"#c51b7d\"],[0.2,\"#de77ae\"],[0.3,\"#f1b6da\"],[0.4,\"#fde0ef\"],[0.5,\"#f7f7f7\"],[0.6,\"#e6f5d0\"],[0.7,\"#b8e186\"],[0.8,\"#7fbc41\"],[0.9,\"#4d9221\"],[1,\"#276419\"]],\"sequential\":[[0.0,\"#0d0887\"],[0.1111111111111111,\"#46039f\"],[0.2222222222222222,\"#7201a8\"],[0.3333333333333333,\"#9c179e\"],[0.4444444444444444,\"#bd3786\"],[0.5555555555555556,\"#d8576b\"],[0.6666666666666666,\"#ed7953\"],[0.7777777777777778,\"#fb9f3a\"],[0.8888888888888888,\"#fdca26\"],[1.0,\"#f0f921\"]],\"sequentialminus\":[[0.0,\"#0d0887\"],[0.1111111111111111,\"#46039f\"],[0.2222222222222222,\"#7201a8\"],[0.3333333333333333,\"#9c179e\"],[0.4444444444444444,\"#bd3786\"],[0.5555555555555556,\"#d8576b\"],[0.6666666666666666,\"#ed7953\"],[0.7777777777777778,\"#fb9f3a\"],[0.8888888888888888,\"#fdca26\"],[1.0,\"#f0f921\"]]},\"colorway\":[\"#636efa\",\"#EF553B\",\"#00cc96\",\"#ab63fa\",\"#FFA15A\",\"#19d3f3\",\"#FF6692\",\"#B6E880\",\"#FF97FF\",\"#FECB52\"],\"font\":{\"color\":\"#2a3f5f\"},\"geo\":{\"bgcolor\":\"white\",\"lakecolor\":\"white\",\"landcolor\":\"#E5ECF6\",\"showlakes\":true,\"showland\":true,\"subunitcolor\":\"white\"},\"hoverlabel\":{\"align\":\"left\"},\"hovermode\":\"closest\",\"mapbox\":{\"style\":\"light\"},\"paper_bgcolor\":\"white\",\"plot_bgcolor\":\"#E5ECF6\",\"polar\":{\"angularaxis\":{\"gridcolor\":\"white\",\"linecolor\":\"white\",\"ticks\":\"\"},\"bgcolor\":\"#E5ECF6\",\"radialaxis\":{\"gridcolor\":\"white\",\"linecolor\":\"white\",\"ticks\":\"\"}},\"scene\":{\"xaxis\":{\"backgroundcolor\":\"#E5ECF6\",\"gridcolor\":\"white\",\"gridwidth\":2,\"linecolor\":\"white\",\"showbackground\":true,\"ticks\":\"\",\"zerolinecolor\":\"white\"},\"yaxis\":{\"backgroundcolor\":\"#E5ECF6\",\"gridcolor\":\"white\",\"gridwidth\":2,\"linecolor\":\"white\",\"showbackground\":true,\"ticks\":\"\",\"zerolinecolor\":\"white\"},\"zaxis\":{\"backgroundcolor\":\"#E5ECF6\",\"gridcolor\":\"white\",\"gridwidth\":2,\"linecolor\":\"white\",\"showbackground\":true,\"ticks\":\"\",\"zerolinecolor\":\"white\"}},\"shapedefaults\":{\"line\":{\"color\":\"#2a3f5f\"}},\"ternary\":{\"aaxis\":{\"gridcolor\":\"white\",\"linecolor\":\"white\",\"ticks\":\"\"},\"baxis\":{\"gridcolor\":\"white\",\"linecolor\":\"white\",\"ticks\":\"\"},\"bgcolor\":\"#E5ECF6\",\"caxis\":{\"gridcolor\":\"white\",\"linecolor\":\"white\",\"ticks\":\"\"}},\"title\":{\"x\":0.05},\"xaxis\":{\"automargin\":true,\"gridcolor\":\"white\",\"linecolor\":\"white\",\"ticks\":\"\",\"title\":{\"standoff\":15},\"zerolinecolor\":\"white\",\"zerolinewidth\":2},\"yaxis\":{\"automargin\":true,\"gridcolor\":\"white\",\"linecolor\":\"white\",\"ticks\":\"\",\"title\":{\"standoff\":15},\"zerolinecolor\":\"white\",\"zerolinewidth\":2}}},\"title\":{\"text\":\"Stats of Charmander\"}},                        {\"responsive\": true}                    ).then(function(){\n",
       "                            \n",
       "var gd = document.getElementById('6eae030d-65ee-48c8-87bd-dcc22b5cddc3');\n",
       "var x = new MutationObserver(function (mutations, observer) {{\n",
       "        var display = window.getComputedStyle(gd).display;\n",
       "        if (!display || display === 'none') {{\n",
       "            console.log([gd, 'removed!']);\n",
       "            Plotly.purge(gd);\n",
       "            observer.disconnect();\n",
       "        }}\n",
       "}});\n",
       "\n",
       "// Listen for the removal of the full notebook cells\n",
       "var notebookContainer = gd.closest('#notebook-container');\n",
       "if (notebookContainer) {{\n",
       "    x.observe(notebookContainer, {childList: true});\n",
       "}}\n",
       "\n",
       "// Listen for the clearing of the current output cell\n",
       "var outputEl = gd.closest('.output');\n",
       "if (outputEl) {{\n",
       "    x.observe(outputEl, {childList: true});\n",
       "}}\n",
       "\n",
       "                        })                };                });            </script>        </div>"
      ]
     },
     "metadata": {},
     "output_type": "display_data"
    }
   ],
   "source": [
    "def plot_single_pokemon(name):\n",
    "    layout = go.Layout(\n",
    "        polar=dict(\n",
    "            radialaxis=dict(\n",
    "                visible=True,\n",
    "                range=[0, 250]\n",
    "            )\n",
    "        ),\n",
    "        showlegend=False,\n",
    "        title=\"Stats of {}\".format(name)\n",
    "    )\n",
    "\n",
    "    pokemon_figure = go.Figure(data=[radar_chart(name)], layout=layout)\n",
    "    iplot(pokemon_figure, filename='Single Pokemon')\n",
    "\n",
    "name = 'Charmander'\n",
    "plot_single_pokemon(name)\n",
    "\n",
    "# TODO: How would you remove the axis numbers?\n",
    "# TODO: Pick a different pokemon to display.\n",
    "# TODO: How to display multiple pokemon?\n",
    "\n",
    "# 0. Specify the two pokemon.\n",
    "# 1. Change title, {} vs. {}.\n",
    "# 2. Generate two radar chart objects and store them in variables.\n",
    "# 3. Update the figure object name.\n",
    "# 4. Update the iplot figure display function."
   ]
  },
  {
   "cell_type": "code",
   "execution_count": 69,
   "metadata": {},
   "outputs": [],
   "source": [
    "# Generate hex code list of all pokemon.\n",
    "color_list = []\n",
    "for i, row in pokemon.iterrows():\n",
    "    color_list.append(colors[row['type1']]) "
   ]
  },
  {
   "cell_type": "code",
   "execution_count": 87,
   "metadata": {},
   "outputs": [
    {
     "data": {
      "application/vnd.plotly.v1+json": {
       "config": {
        "linkText": "Export to plot.ly",
        "plotlyServerURL": "https://plot.ly",
        "showLink": false
       },
       "data": [
        {
         "marker": {
          "showscale": true,
          "size": 10
         },
         "mode": "markers",
         "text": [
          "Bulbasaur",
          "Ivysaur",
          "Venusaur",
          "Charmander",
          "Charmeleon",
          "Charizard",
          "Squirtle",
          "Wartortle",
          "Blastoise",
          "Caterpie",
          "Metapod",
          "Butterfree",
          "Weedle",
          "Kakuna",
          "Beedrill",
          "Pidgey",
          "Pidgeotto",
          "Pidgeot",
          "Rattata",
          "Raticate",
          "Spearow",
          "Fearow",
          "Ekans",
          "Arbok",
          "Pikachu",
          "Raichu",
          "Sandshrew",
          "Sandslash",
          "Nidoran♀",
          "Nidorina",
          "Nidoqueen",
          "Nidoran♂",
          "Nidorino",
          "Nidoking",
          "Clefairy",
          "Clefable",
          "Vulpix",
          "Ninetales",
          "Jigglypuff",
          "Wigglytuff",
          "Zubat",
          "Golbat",
          "Oddish",
          "Gloom",
          "Vileplume",
          "Paras",
          "Parasect",
          "Venonat",
          "Venomoth",
          "Diglett",
          "Dugtrio",
          "Meowth",
          "Persian",
          "Psyduck",
          "Golduck",
          "Mankey",
          "Primeape",
          "Growlithe",
          "Arcanine",
          "Poliwag",
          "Poliwhirl",
          "Poliwrath",
          "Abra",
          "Kadabra",
          "Alakazam",
          "Machop",
          "Machoke",
          "Machamp",
          "Bellsprout",
          "Weepinbell",
          "Victreebel",
          "Tentacool",
          "Tentacruel",
          "Geodude",
          "Graveler",
          "Golem",
          "Ponyta",
          "Rapidash",
          "Slowpoke",
          "Slowbro",
          "Magnemite",
          "Magneton",
          "Farfetch'd",
          "Doduo",
          "Dodrio",
          "Seel",
          "Dewgong",
          "Grimer",
          "Muk",
          "Shellder",
          "Cloyster",
          "Gastly",
          "Haunter",
          "Gengar",
          "Onix",
          "Drowzee",
          "Hypno",
          "Krabby",
          "Kingler",
          "Voltorb",
          "Electrode",
          "Exeggcute",
          "Exeggutor",
          "Cubone",
          "Marowak",
          "Hitmonlee",
          "Hitmonchan",
          "Lickitung",
          "Koffing",
          "Weezing",
          "Rhyhorn",
          "Rhydon",
          "Chansey",
          "Tangela",
          "Kangaskhan",
          "Horsea",
          "Seadra",
          "Goldeen",
          "Seaking",
          "Staryu",
          "Starmie",
          "Mr. Mime",
          "Scyther",
          "Jynx",
          "Electabuzz",
          "Magmar",
          "Pinsir",
          "Tauros",
          "Magikarp",
          "Gyarados",
          "Lapras",
          "Ditto",
          "Eevee",
          "Vaporeon",
          "Jolteon",
          "Flareon",
          "Porygon",
          "Omanyte",
          "Omastar",
          "Kabuto",
          "Kabutops",
          "Aerodactyl",
          "Snorlax",
          "Articuno",
          "Zapdos",
          "Moltres",
          "Dratini",
          "Dragonair",
          "Dragonite",
          "Mewtwo",
          "Mew",
          "Chikorita",
          "Bayleef",
          "Meganium",
          "Cyndaquil",
          "Quilava",
          "Typhlosion",
          "Totodile",
          "Croconaw",
          "Feraligatr",
          "Sentret",
          "Furret",
          "Hoothoot",
          "Noctowl",
          "Ledyba",
          "Ledian",
          "Spinarak",
          "Ariados",
          "Crobat",
          "Chinchou",
          "Lanturn",
          "Pichu",
          "Cleffa",
          "Igglybuff",
          "Togepi",
          "Togetic",
          "Natu",
          "Xatu",
          "Mareep",
          "Flaaffy",
          "Ampharos",
          "Bellossom",
          "Marill",
          "Azumarill",
          "Sudowoodo",
          "Politoed",
          "Hoppip",
          "Skiploom",
          "Jumpluff",
          "Aipom",
          "Sunkern",
          "Sunflora",
          "Yanma",
          "Wooper",
          "Quagsire",
          "Espeon",
          "Umbreon",
          "Murkrow",
          "Slowking",
          "Misdreavus",
          "Unown",
          "Wobbuffet",
          "Girafarig",
          "Pineco",
          "Forretress",
          "Dunsparce",
          "Gligar",
          "Steelix",
          "Snubbull",
          "Granbull",
          "Qwilfish",
          "Scizor",
          "Shuckle",
          "Heracross",
          "Sneasel",
          "Teddiursa",
          "Ursaring",
          "Slugma",
          "Magcargo",
          "Swinub",
          "Piloswine",
          "Corsola",
          "Remoraid",
          "Octillery",
          "Delibird",
          "Mantine",
          "Skarmory",
          "Houndour",
          "Houndoom",
          "Kingdra",
          "Phanpy",
          "Donphan",
          "Porygon2",
          "Stantler",
          "Smeargle",
          "Tyrogue",
          "Hitmontop",
          "Smoochum",
          "Elekid",
          "Magby",
          "Miltank",
          "Blissey",
          "Raikou",
          "Entei",
          "Suicune",
          "Larvitar",
          "Pupitar",
          "Tyranitar",
          "Lugia",
          "Ho-Oh",
          "Celebi",
          "Treecko",
          "Grovyle",
          "Sceptile",
          "Torchic",
          "Combusken",
          "Blaziken",
          "Mudkip",
          "Marshtomp",
          "Swampert",
          "Poochyena",
          "Mightyena",
          "Zigzagoon",
          "Linoone",
          "Wurmple",
          "Silcoon",
          "Beautifly",
          "Cascoon",
          "Dustox",
          "Lotad",
          "Lombre",
          "Ludicolo",
          "Seedot",
          "Nuzleaf",
          "Shiftry",
          "Taillow",
          "Swellow",
          "Wingull",
          "Pelipper",
          "Ralts",
          "Kirlia",
          "Gardevoir",
          "Surskit",
          "Masquerain",
          "Shroomish",
          "Breloom",
          "Slakoth",
          "Vigoroth",
          "Slaking",
          "Nincada",
          "Ninjask",
          "Shedinja",
          "Whismur",
          "Loudred",
          "Exploud",
          "Makuhita",
          "Hariyama",
          "Azurill",
          "Nosepass",
          "Skitty",
          "Delcatty",
          "Sableye",
          "Mawile",
          "Aron",
          "Lairon",
          "Aggron",
          "Meditite",
          "Medicham",
          "Electrike",
          "Manectric",
          "Plusle",
          "Minun",
          "Volbeat",
          "Illumise",
          "Roselia",
          "Gulpin",
          "Swalot",
          "Carvanha",
          "Sharpedo",
          "Wailmer",
          "Wailord",
          "Numel",
          "Camerupt",
          "Torkoal",
          "Spoink",
          "Grumpig",
          "Spinda",
          "Trapinch",
          "Vibrava",
          "Flygon",
          "Cacnea",
          "Cacturne",
          "Swablu",
          "Altaria",
          "Zangoose",
          "Seviper",
          "Lunatone",
          "Solrock",
          "Barboach",
          "Whiscash",
          "Corphish",
          "Crawdaunt",
          "Baltoy",
          "Claydol",
          "Lileep",
          "Cradily",
          "Anorith",
          "Armaldo",
          "Feebas",
          "Milotic",
          "Castform",
          "Kecleon",
          "Shuppet",
          "Banette",
          "Duskull",
          "Dusclops",
          "Tropius",
          "Chimecho",
          "Absol",
          "Wynaut",
          "Snorunt",
          "Glalie",
          "Spheal",
          "Sealeo",
          "Walrein",
          "Clamperl",
          "Huntail",
          "Gorebyss",
          "Relicanth",
          "Luvdisc",
          "Bagon",
          "Shelgon",
          "Salamence",
          "Beldum",
          "Metang",
          "Metagross",
          "Regirock",
          "Regice",
          "Registeel",
          "Latias",
          "Latios",
          "Kyogre",
          "Groudon",
          "Rayquaza",
          "Jirachi",
          "Deoxys",
          "Turtwig",
          "Grotle",
          "Torterra",
          "Chimchar",
          "Monferno",
          "Infernape",
          "Piplup",
          "Prinplup",
          "Empoleon",
          "Starly",
          "Staravia",
          "Staraptor",
          "Bidoof",
          "Bibarel",
          "Kricketot",
          "Kricketune",
          "Shinx",
          "Luxio",
          "Luxray",
          "Budew",
          "Roserade",
          "Cranidos",
          "Rampardos",
          "Shieldon",
          "Bastiodon",
          "Burmy",
          "Wormadam",
          "Mothim",
          "Combee",
          "Vespiquen",
          "Pachirisu",
          "Buizel",
          "Floatzel",
          "Cherubi",
          "Cherrim",
          "Shellos",
          "Gastrodon",
          "Ambipom",
          "Drifloon",
          "Drifblim",
          "Buneary",
          "Lopunny",
          "Mismagius",
          "Honchkrow",
          "Glameow",
          "Purugly",
          "Chingling",
          "Stunky",
          "Skuntank",
          "Bronzor",
          "Bronzong",
          "Bonsly",
          "Mime Jr.",
          "Happiny",
          "Chatot",
          "Spiritomb",
          "Gible",
          "Gabite",
          "Garchomp",
          "Munchlax",
          "Riolu",
          "Lucario",
          "Hippopotas",
          "Hippowdon",
          "Skorupi",
          "Drapion",
          "Croagunk",
          "Toxicroak",
          "Carnivine",
          "Finneon",
          "Lumineon",
          "Mantyke",
          "Snover",
          "Abomasnow",
          "Weavile",
          "Magnezone",
          "Lickilicky",
          "Rhyperior",
          "Tangrowth",
          "Electivire",
          "Magmortar",
          "Togekiss",
          "Yanmega",
          "Leafeon",
          "Glaceon",
          "Gliscor",
          "Mamoswine",
          "Porygon-Z",
          "Gallade",
          "Probopass",
          "Dusknoir",
          "Froslass",
          "Rotom",
          "Uxie",
          "Mesprit",
          "Azelf",
          "Dialga",
          "Palkia",
          "Heatran",
          "Regigigas",
          "Giratina",
          "Cresselia",
          "Phione",
          "Manaphy",
          "Darkrai",
          "Shaymin",
          "Arceus",
          "Victini",
          "Snivy",
          "Servine",
          "Serperior",
          "Tepig",
          "Pignite",
          "Emboar",
          "Oshawott",
          "Dewott",
          "Samurott",
          "Patrat",
          "Watchog",
          "Lillipup",
          "Herdier",
          "Stoutland",
          "Purrloin",
          "Liepard",
          "Pansage",
          "Simisage",
          "Pansear",
          "Simisear",
          "Panpour",
          "Simipour",
          "Munna",
          "Musharna",
          "Pidove",
          "Tranquill",
          "Unfezant",
          "Blitzle",
          "Zebstrika",
          "Roggenrola",
          "Boldore",
          "Gigalith",
          "Woobat",
          "Swoobat",
          "Drilbur",
          "Excadrill",
          "Audino",
          "Timburr",
          "Gurdurr",
          "Conkeldurr",
          "Tympole",
          "Palpitoad",
          "Seismitoad",
          "Throh",
          "Sawk",
          "Sewaddle",
          "Swadloon",
          "Leavanny",
          "Venipede",
          "Whirlipede",
          "Scolipede",
          "Cottonee",
          "Whimsicott",
          "Petilil",
          "Lilligant",
          "Basculin",
          "Sandile",
          "Krokorok",
          "Krookodile",
          "Darumaka",
          "Darmanitan",
          "Maractus",
          "Dwebble",
          "Crustle",
          "Scraggy",
          "Scrafty",
          "Sigilyph",
          "Yamask",
          "Cofagrigus",
          "Tirtouga",
          "Carracosta",
          "Archen",
          "Archeops",
          "Trubbish",
          "Garbodor",
          "Zorua",
          "Zoroark",
          "Minccino",
          "Cinccino",
          "Gothita",
          "Gothorita",
          "Gothitelle",
          "Solosis",
          "Duosion",
          "Reuniclus",
          "Ducklett",
          "Swanna",
          "Vanillite",
          "Vanillish",
          "Vanilluxe",
          "Deerling",
          "Sawsbuck",
          "Emolga",
          "Karrablast",
          "Escavalier",
          "Foongus",
          "Amoonguss",
          "Frillish",
          "Jellicent",
          "Alomomola",
          "Joltik",
          "Galvantula",
          "Ferroseed",
          "Ferrothorn",
          "Klink",
          "Klang",
          "Klinklang",
          "Tynamo",
          "Eelektrik",
          "Eelektross",
          "Elgyem",
          "Beheeyem",
          "Litwick",
          "Lampent",
          "Chandelure",
          "Axew",
          "Fraxure",
          "Haxorus",
          "Cubchoo",
          "Beartic",
          "Cryogonal",
          "Shelmet",
          "Accelgor",
          "Stunfisk",
          "Mienfoo",
          "Mienshao",
          "Druddigon",
          "Golett",
          "Golurk",
          "Pawniard",
          "Bisharp",
          "Bouffalant",
          "Rufflet",
          "Braviary",
          "Vullaby",
          "Mandibuzz",
          "Heatmor",
          "Durant",
          "Deino",
          "Zweilous",
          "Hydreigon",
          "Larvesta",
          "Volcarona",
          "Cobalion",
          "Terrakion",
          "Virizion",
          "Tornadus",
          "Thundurus",
          "Reshiram",
          "Zekrom",
          "Landorus",
          "Kyurem",
          "Keldeo",
          "Meloetta",
          "Genesect",
          "Chespin",
          "Quilladin",
          "Chesnaught",
          "Fennekin",
          "Braixen",
          "Delphox",
          "Froakie",
          "Frogadier",
          "Greninja",
          "Bunnelby",
          "Diggersby",
          "Fletchling",
          "Fletchinder",
          "Talonflame",
          "Scatterbug",
          "Spewpa",
          "Vivillon",
          "Litleo",
          "Pyroar",
          "Flabébé",
          "Floette",
          "Florges",
          "Skiddo",
          "Gogoat",
          "Pancham",
          "Pangoro",
          "Furfrou",
          "Espurr",
          "Meowstic",
          "Honedge",
          "Doublade",
          "Aegislash",
          "Spritzee",
          "Aromatisse",
          "Swirlix",
          "Slurpuff",
          "Inkay",
          "Malamar",
          "Binacle",
          "Barbaracle",
          "Skrelp",
          "Dragalge",
          "Clauncher",
          "Clawitzer",
          "Helioptile",
          "Heliolisk",
          "Tyrunt",
          "Tyrantrum",
          "Amaura",
          "Aurorus",
          "Sylveon",
          "Hawlucha",
          "Dedenne",
          "Carbink",
          "Goomy",
          "Sliggoo",
          "Goodra",
          "Klefki",
          "Phantump",
          "Trevenant",
          "Pumpkaboo",
          "Gourgeist",
          "Bergmite",
          "Avalugg",
          "Noibat",
          "Noivern",
          "Xerneas",
          "Yveltal",
          "Zygarde",
          "Diancie",
          "Hoopa",
          "Volcanion",
          "Rowlet",
          "Dartrix",
          "Decidueye",
          "Litten",
          "Torracat",
          "Incineroar",
          "Popplio",
          "Brionne",
          "Primarina",
          "Pikipek",
          "Trumbeak",
          "Toucannon",
          "Yungoos",
          "Gumshoos",
          "Grubbin",
          "Charjabug",
          "Vikavolt",
          "Crabrawler",
          "Crabominable",
          "Oricorio",
          "Cutiefly",
          "Ribombee",
          "Rockruff",
          "Lycanroc",
          "Wishiwashi",
          "Mareanie",
          "Toxapex",
          "Mudbray",
          "Mudsdale",
          "Dewpider",
          "Araquanid",
          "Fomantis",
          "Lurantis",
          "Morelull",
          "Shiinotic",
          "Salandit",
          "Salazzle",
          "Stufful",
          "Bewear",
          "Bounsweet",
          "Steenee",
          "Tsareena",
          "Comfey",
          "Oranguru",
          "Passimian",
          "Wimpod",
          "Golisopod",
          "Sandygast",
          "Palossand",
          "Pyukumuku",
          "Type: Null",
          "Silvally",
          "Minior",
          "Komala",
          "Turtonator",
          "Togedemaru",
          "Mimikyu",
          "Bruxish",
          "Drampa",
          "Dhelmise",
          "Jangmo-o",
          "Hakamo-o",
          "Kommo-o",
          "Tapu Koko",
          "Tapu Lele",
          "Tapu Bulu",
          "Tapu Fini",
          "Cosmog",
          "Cosmoem",
          "Solgaleo",
          "Lunala",
          "Nihilego",
          "Buzzwole",
          "Pheromosa",
          "Xurkitree",
          "Celesteela",
          "Kartana",
          "Guzzlord",
          "Necrozma",
          "Magearna"
         ],
         "type": "scatter",
         "x": [
          45,
          60,
          80,
          39,
          58,
          78,
          44,
          59,
          79,
          45,
          50,
          60,
          40,
          45,
          65,
          40,
          63,
          83,
          30,
          75,
          40,
          65,
          35,
          60,
          35,
          60,
          50,
          75,
          55,
          70,
          90,
          46,
          61,
          81,
          70,
          95,
          38,
          73,
          115,
          140,
          40,
          75,
          45,
          60,
          75,
          35,
          60,
          60,
          70,
          10,
          35,
          40,
          65,
          50,
          80,
          40,
          65,
          55,
          90,
          40,
          65,
          90,
          25,
          40,
          55,
          70,
          80,
          90,
          50,
          65,
          80,
          40,
          80,
          40,
          55,
          80,
          50,
          65,
          90,
          95,
          25,
          50,
          52,
          35,
          60,
          65,
          90,
          80,
          105,
          30,
          50,
          30,
          45,
          60,
          35,
          60,
          85,
          30,
          55,
          40,
          60,
          60,
          95,
          50,
          60,
          50,
          50,
          90,
          40,
          65,
          80,
          105,
          250,
          65,
          105,
          30,
          55,
          45,
          80,
          30,
          60,
          40,
          70,
          65,
          65,
          65,
          65,
          75,
          20,
          95,
          130,
          48,
          55,
          130,
          65,
          65,
          65,
          35,
          70,
          30,
          60,
          80,
          160,
          90,
          90,
          90,
          41,
          61,
          91,
          106,
          100,
          45,
          60,
          80,
          39,
          58,
          78,
          50,
          65,
          85,
          35,
          85,
          60,
          100,
          40,
          55,
          40,
          70,
          85,
          75,
          125,
          20,
          50,
          90,
          35,
          55,
          40,
          65,
          55,
          70,
          90,
          75,
          70,
          100,
          70,
          90,
          35,
          55,
          75,
          55,
          30,
          75,
          65,
          55,
          95,
          65,
          95,
          60,
          95,
          60,
          48,
          190,
          70,
          50,
          75,
          100,
          65,
          75,
          60,
          90,
          65,
          70,
          20,
          80,
          55,
          60,
          90,
          40,
          60,
          50,
          100,
          65,
          35,
          75,
          45,
          85,
          65,
          45,
          75,
          75,
          90,
          90,
          85,
          73,
          55,
          35,
          50,
          45,
          45,
          45,
          95,
          255,
          90,
          115,
          100,
          50,
          70,
          100,
          106,
          106,
          100,
          40,
          50,
          70,
          45,
          60,
          80,
          50,
          70,
          100,
          35,
          70,
          38,
          78,
          45,
          50,
          60,
          50,
          60,
          40,
          60,
          80,
          40,
          70,
          90,
          40,
          60,
          40,
          60,
          28,
          38,
          68,
          40,
          70,
          60,
          60,
          60,
          80,
          150,
          31,
          61,
          1,
          64,
          84,
          104,
          72,
          144,
          50,
          30,
          50,
          70,
          50,
          50,
          50,
          60,
          70,
          30,
          60,
          40,
          70,
          60,
          60,
          65,
          65,
          50,
          70,
          100,
          45,
          70,
          130,
          170,
          60,
          70,
          70,
          60,
          80,
          60,
          45,
          50,
          80,
          50,
          70,
          45,
          75,
          73,
          73,
          90,
          90,
          50,
          110,
          43,
          63,
          40,
          60,
          66,
          86,
          45,
          75,
          20,
          95,
          70,
          60,
          44,
          64,
          20,
          40,
          99,
          75,
          65,
          95,
          50,
          80,
          70,
          90,
          110,
          35,
          55,
          55,
          100,
          43,
          45,
          65,
          95,
          40,
          60,
          80,
          80,
          80,
          80,
          80,
          80,
          100,
          100,
          105,
          100,
          50,
          55,
          75,
          95,
          44,
          64,
          76,
          53,
          64,
          84,
          40,
          55,
          85,
          59,
          79,
          37,
          77,
          45,
          60,
          80,
          40,
          60,
          67,
          97,
          30,
          60,
          40,
          60,
          70,
          30,
          70,
          60,
          55,
          85,
          45,
          70,
          76,
          111,
          75,
          90,
          150,
          55,
          65,
          60,
          100,
          49,
          71,
          45,
          63,
          103,
          57,
          67,
          50,
          20,
          100,
          76,
          50,
          58,
          68,
          108,
          135,
          40,
          70,
          68,
          108,
          40,
          70,
          48,
          83,
          74,
          49,
          69,
          45,
          60,
          90,
          70,
          70,
          110,
          115,
          100,
          75,
          75,
          85,
          86,
          65,
          65,
          75,
          110,
          85,
          68,
          60,
          45,
          70,
          50,
          75,
          80,
          75,
          100,
          90,
          91,
          110,
          150,
          120,
          80,
          100,
          70,
          100,
          120,
          100,
          45,
          60,
          75,
          65,
          90,
          110,
          55,
          75,
          95,
          45,
          60,
          45,
          65,
          85,
          41,
          64,
          50,
          75,
          50,
          75,
          50,
          75,
          76,
          116,
          50,
          62,
          80,
          45,
          75,
          55,
          70,
          85,
          65,
          67,
          60,
          110,
          103,
          75,
          85,
          105,
          50,
          75,
          105,
          120,
          75,
          45,
          55,
          75,
          30,
          40,
          60,
          40,
          60,
          45,
          70,
          70,
          50,
          60,
          95,
          70,
          105,
          75,
          50,
          70,
          50,
          65,
          72,
          38,
          58,
          54,
          74,
          55,
          75,
          50,
          80,
          40,
          60,
          55,
          75,
          45,
          60,
          70,
          45,
          65,
          110,
          62,
          75,
          36,
          51,
          71,
          60,
          80,
          55,
          50,
          70,
          69,
          114,
          55,
          100,
          165,
          50,
          70,
          44,
          74,
          40,
          60,
          60,
          35,
          65,
          85,
          55,
          75,
          50,
          60,
          60,
          46,
          66,
          76,
          55,
          95,
          80,
          50,
          80,
          109,
          45,
          65,
          77,
          59,
          89,
          45,
          65,
          95,
          70,
          100,
          70,
          110,
          85,
          58,
          52,
          72,
          92,
          55,
          85,
          91,
          91,
          91,
          79,
          79,
          100,
          100,
          89,
          125,
          91,
          100,
          71,
          56,
          61,
          88,
          40,
          59,
          75,
          41,
          54,
          72,
          38,
          85,
          45,
          62,
          78,
          38,
          45,
          80,
          62,
          86,
          44,
          74,
          78,
          66,
          123,
          67,
          95,
          75,
          62,
          74,
          45,
          59,
          60,
          78,
          101,
          62,
          82,
          53,
          86,
          42,
          72,
          50,
          65,
          50,
          71,
          44,
          62,
          58,
          82,
          77,
          123,
          95,
          78,
          67,
          50,
          45,
          68,
          90,
          57,
          43,
          85,
          59,
          85,
          55,
          95,
          40,
          85,
          126,
          126,
          216,
          50,
          80,
          80,
          68,
          78,
          78,
          45,
          65,
          95,
          50,
          60,
          80,
          35,
          55,
          80,
          48,
          88,
          47,
          57,
          77,
          47,
          97,
          75,
          40,
          60,
          45,
          85,
          45,
          50,
          50,
          70,
          100,
          38,
          68,
          40,
          70,
          40,
          60,
          48,
          68,
          70,
          120,
          42,
          52,
          72,
          51,
          90,
          100,
          25,
          75,
          55,
          85,
          55,
          95,
          95,
          60,
          65,
          60,
          65,
          55,
          68,
          78,
          70,
          45,
          55,
          75,
          70,
          70,
          70,
          70,
          43,
          43,
          137,
          137,
          109,
          107,
          71,
          83,
          97,
          59,
          223,
          97,
          80
         ],
         "y": [
          49,
          63,
          123,
          43,
          58,
          78,
          65,
          80,
          120,
          35,
          55,
          50,
          30,
          50,
          40,
          40,
          55,
          80,
          35,
          70,
          30,
          65,
          44,
          69,
          40,
          50,
          90,
          120,
          52,
          67,
          87,
          40,
          57,
          77,
          48,
          73,
          40,
          75,
          20,
          45,
          35,
          70,
          55,
          70,
          85,
          55,
          80,
          50,
          60,
          30,
          60,
          35,
          60,
          48,
          78,
          35,
          60,
          45,
          80,
          40,
          65,
          95,
          15,
          30,
          65,
          50,
          70,
          80,
          35,
          50,
          65,
          35,
          65,
          100,
          115,
          130,
          55,
          70,
          65,
          180,
          70,
          95,
          55,
          45,
          70,
          55,
          80,
          50,
          75,
          100,
          180,
          30,
          45,
          80,
          160,
          45,
          70,
          90,
          115,
          50,
          70,
          80,
          85,
          95,
          110,
          53,
          79,
          75,
          95,
          120,
          95,
          120,
          5,
          115,
          100,
          70,
          95,
          60,
          65,
          55,
          85,
          65,
          80,
          35,
          57,
          57,
          120,
          95,
          55,
          109,
          80,
          48,
          50,
          60,
          60,
          60,
          70,
          100,
          125,
          90,
          105,
          85,
          65,
          100,
          85,
          90,
          45,
          65,
          95,
          70,
          100,
          65,
          80,
          100,
          43,
          58,
          78,
          64,
          80,
          100,
          34,
          64,
          30,
          50,
          30,
          50,
          40,
          70,
          80,
          38,
          58,
          15,
          28,
          15,
          65,
          85,
          45,
          70,
          40,
          55,
          105,
          95,
          50,
          80,
          115,
          75,
          40,
          50,
          70,
          55,
          30,
          55,
          45,
          45,
          85,
          60,
          110,
          42,
          80,
          60,
          48,
          58,
          65,
          90,
          140,
          70,
          105,
          230,
          50,
          75,
          85,
          140,
          230,
          115,
          55,
          50,
          75,
          40,
          120,
          40,
          80,
          95,
          35,
          75,
          45,
          70,
          140,
          30,
          90,
          95,
          60,
          120,
          90,
          62,
          35,
          35,
          95,
          15,
          37,
          37,
          105,
          10,
          75,
          85,
          115,
          50,
          70,
          150,
          130,
          90,
          100,
          35,
          45,
          75,
          40,
          60,
          80,
          50,
          70,
          110,
          35,
          70,
          41,
          61,
          35,
          55,
          50,
          55,
          70,
          30,
          50,
          70,
          50,
          40,
          60,
          30,
          60,
          30,
          100,
          25,
          35,
          65,
          32,
          62,
          60,
          80,
          60,
          80,
          100,
          90,
          45,
          45,
          23,
          43,
          63,
          30,
          60,
          40,
          135,
          45,
          65,
          125,
          125,
          100,
          140,
          230,
          55,
          85,
          40,
          80,
          40,
          50,
          75,
          75,
          45,
          53,
          83,
          20,
          70,
          35,
          45,
          40,
          100,
          140,
          35,
          65,
          60,
          45,
          50,
          80,
          40,
          60,
          60,
          110,
          60,
          60,
          65,
          85,
          43,
          73,
          65,
          85,
          55,
          105,
          77,
          97,
          50,
          100,
          20,
          79,
          70,
          70,
          35,
          75,
          90,
          130,
          83,
          80,
          60,
          48,
          50,
          80,
          50,
          70,
          90,
          85,
          105,
          105,
          130,
          55,
          60,
          100,
          130,
          80,
          100,
          150,
          200,
          100,
          150,
          120,
          100,
          90,
          160,
          100,
          100,
          90,
          64,
          85,
          105,
          44,
          52,
          71,
          53,
          68,
          88,
          30,
          50,
          70,
          40,
          60,
          41,
          51,
          34,
          49,
          79,
          35,
          65,
          40,
          60,
          118,
          168,
          45,
          95,
          50,
          42,
          102,
          70,
          35,
          55,
          45,
          70,
          48,
          68,
          66,
          34,
          44,
          44,
          94,
          60,
          52,
          42,
          64,
          50,
          47,
          67,
          86,
          116,
          95,
          45,
          5,
          45,
          108,
          45,
          65,
          115,
          40,
          40,
          88,
          78,
          118,
          90,
          110,
          40,
          65,
          72,
          56,
          76,
          50,
          50,
          105,
          65,
          115,
          95,
          130,
          125,
          67,
          67,
          95,
          86,
          130,
          110,
          125,
          80,
          70,
          95,
          145,
          135,
          70,
          107,
          130,
          105,
          70,
          120,
          100,
          106,
          110,
          100,
          120,
          80,
          100,
          90,
          75,
          120,
          100,
          55,
          75,
          95,
          45,
          55,
          65,
          45,
          60,
          85,
          39,
          69,
          45,
          65,
          90,
          37,
          50,
          48,
          63,
          48,
          63,
          48,
          63,
          45,
          85,
          50,
          62,
          80,
          32,
          63,
          85,
          105,
          130,
          43,
          55,
          40,
          60,
          126,
          55,
          85,
          95,
          40,
          55,
          75,
          85,
          75,
          70,
          90,
          80,
          59,
          99,
          89,
          60,
          85,
          50,
          75,
          65,
          35,
          45,
          80,
          45,
          105,
          67,
          85,
          125,
          70,
          115,
          80,
          85,
          145,
          103,
          133,
          45,
          65,
          62,
          82,
          40,
          60,
          40,
          60,
          50,
          70,
          95,
          40,
          50,
          75,
          50,
          63,
          50,
          65,
          85,
          50,
          70,
          60,
          45,
          105,
          45,
          70,
          50,
          70,
          80,
          50,
          60,
          91,
          131,
          70,
          95,
          115,
          40,
          70,
          80,
          55,
          75,
          55,
          60,
          90,
          60,
          70,
          90,
          40,
          80,
          50,
          85,
          40,
          84,
          50,
          60,
          90,
          50,
          80,
          70,
          100,
          95,
          50,
          75,
          75,
          105,
          66,
          112,
          50,
          70,
          90,
          55,
          65,
          129,
          90,
          72,
          80,
          70,
          100,
          120,
          90,
          90,
          90,
          90,
          95,
          65,
          95,
          122,
          40,
          58,
          72,
          40,
          52,
          67,
          38,
          77,
          43,
          55,
          71,
          40,
          60,
          50,
          58,
          72,
          39,
          67,
          68,
          48,
          62,
          62,
          78,
          60,
          54,
          76,
          100,
          150,
          50,
          60,
          72,
          66,
          86,
          53,
          88,
          67,
          115,
          60,
          90,
          62,
          88,
          33,
          52,
          77,
          119,
          50,
          72,
          65,
          75,
          57,
          150,
          35,
          53,
          70,
          91,
          48,
          76,
          70,
          122,
          85,
          184,
          35,
          80,
          95,
          95,
          121,
          110,
          60,
          120,
          55,
          75,
          75,
          40,
          50,
          90,
          54,
          69,
          74,
          30,
          50,
          75,
          30,
          60,
          45,
          95,
          90,
          57,
          77,
          70,
          40,
          60,
          40,
          75,
          130,
          62,
          152,
          70,
          100,
          52,
          92,
          35,
          90,
          55,
          80,
          40,
          60,
          50,
          80,
          38,
          48,
          98,
          90,
          80,
          90,
          40,
          140,
          80,
          110,
          130,
          95,
          95,
          60,
          65,
          135,
          63,
          80,
          70,
          85,
          100,
          65,
          90,
          125,
          85,
          75,
          115,
          115,
          31,
          131,
          107,
          89,
          47,
          139,
          37,
          71,
          103,
          131,
          53,
          101,
          115
         ]
        }
       ],
       "layout": {
        "showlegend": false,
        "template": {
         "data": {
          "bar": [
           {
            "error_x": {
             "color": "#2a3f5f"
            },
            "error_y": {
             "color": "#2a3f5f"
            },
            "marker": {
             "line": {
              "color": "#E5ECF6",
              "width": 0.5
             },
             "pattern": {
              "fillmode": "overlay",
              "size": 10,
              "solidity": 0.2
             }
            },
            "type": "bar"
           }
          ],
          "barpolar": [
           {
            "marker": {
             "line": {
              "color": "#E5ECF6",
              "width": 0.5
             },
             "pattern": {
              "fillmode": "overlay",
              "size": 10,
              "solidity": 0.2
             }
            },
            "type": "barpolar"
           }
          ],
          "carpet": [
           {
            "aaxis": {
             "endlinecolor": "#2a3f5f",
             "gridcolor": "white",
             "linecolor": "white",
             "minorgridcolor": "white",
             "startlinecolor": "#2a3f5f"
            },
            "baxis": {
             "endlinecolor": "#2a3f5f",
             "gridcolor": "white",
             "linecolor": "white",
             "minorgridcolor": "white",
             "startlinecolor": "#2a3f5f"
            },
            "type": "carpet"
           }
          ],
          "choropleth": [
           {
            "colorbar": {
             "outlinewidth": 0,
             "ticks": ""
            },
            "type": "choropleth"
           }
          ],
          "contour": [
           {
            "colorbar": {
             "outlinewidth": 0,
             "ticks": ""
            },
            "colorscale": [
             [
              0,
              "#0d0887"
             ],
             [
              0.1111111111111111,
              "#46039f"
             ],
             [
              0.2222222222222222,
              "#7201a8"
             ],
             [
              0.3333333333333333,
              "#9c179e"
             ],
             [
              0.4444444444444444,
              "#bd3786"
             ],
             [
              0.5555555555555556,
              "#d8576b"
             ],
             [
              0.6666666666666666,
              "#ed7953"
             ],
             [
              0.7777777777777778,
              "#fb9f3a"
             ],
             [
              0.8888888888888888,
              "#fdca26"
             ],
             [
              1,
              "#f0f921"
             ]
            ],
            "type": "contour"
           }
          ],
          "contourcarpet": [
           {
            "colorbar": {
             "outlinewidth": 0,
             "ticks": ""
            },
            "type": "contourcarpet"
           }
          ],
          "heatmap": [
           {
            "colorbar": {
             "outlinewidth": 0,
             "ticks": ""
            },
            "colorscale": [
             [
              0,
              "#0d0887"
             ],
             [
              0.1111111111111111,
              "#46039f"
             ],
             [
              0.2222222222222222,
              "#7201a8"
             ],
             [
              0.3333333333333333,
              "#9c179e"
             ],
             [
              0.4444444444444444,
              "#bd3786"
             ],
             [
              0.5555555555555556,
              "#d8576b"
             ],
             [
              0.6666666666666666,
              "#ed7953"
             ],
             [
              0.7777777777777778,
              "#fb9f3a"
             ],
             [
              0.8888888888888888,
              "#fdca26"
             ],
             [
              1,
              "#f0f921"
             ]
            ],
            "type": "heatmap"
           }
          ],
          "heatmapgl": [
           {
            "colorbar": {
             "outlinewidth": 0,
             "ticks": ""
            },
            "colorscale": [
             [
              0,
              "#0d0887"
             ],
             [
              0.1111111111111111,
              "#46039f"
             ],
             [
              0.2222222222222222,
              "#7201a8"
             ],
             [
              0.3333333333333333,
              "#9c179e"
             ],
             [
              0.4444444444444444,
              "#bd3786"
             ],
             [
              0.5555555555555556,
              "#d8576b"
             ],
             [
              0.6666666666666666,
              "#ed7953"
             ],
             [
              0.7777777777777778,
              "#fb9f3a"
             ],
             [
              0.8888888888888888,
              "#fdca26"
             ],
             [
              1,
              "#f0f921"
             ]
            ],
            "type": "heatmapgl"
           }
          ],
          "histogram": [
           {
            "marker": {
             "pattern": {
              "fillmode": "overlay",
              "size": 10,
              "solidity": 0.2
             }
            },
            "type": "histogram"
           }
          ],
          "histogram2d": [
           {
            "colorbar": {
             "outlinewidth": 0,
             "ticks": ""
            },
            "colorscale": [
             [
              0,
              "#0d0887"
             ],
             [
              0.1111111111111111,
              "#46039f"
             ],
             [
              0.2222222222222222,
              "#7201a8"
             ],
             [
              0.3333333333333333,
              "#9c179e"
             ],
             [
              0.4444444444444444,
              "#bd3786"
             ],
             [
              0.5555555555555556,
              "#d8576b"
             ],
             [
              0.6666666666666666,
              "#ed7953"
             ],
             [
              0.7777777777777778,
              "#fb9f3a"
             ],
             [
              0.8888888888888888,
              "#fdca26"
             ],
             [
              1,
              "#f0f921"
             ]
            ],
            "type": "histogram2d"
           }
          ],
          "histogram2dcontour": [
           {
            "colorbar": {
             "outlinewidth": 0,
             "ticks": ""
            },
            "colorscale": [
             [
              0,
              "#0d0887"
             ],
             [
              0.1111111111111111,
              "#46039f"
             ],
             [
              0.2222222222222222,
              "#7201a8"
             ],
             [
              0.3333333333333333,
              "#9c179e"
             ],
             [
              0.4444444444444444,
              "#bd3786"
             ],
             [
              0.5555555555555556,
              "#d8576b"
             ],
             [
              0.6666666666666666,
              "#ed7953"
             ],
             [
              0.7777777777777778,
              "#fb9f3a"
             ],
             [
              0.8888888888888888,
              "#fdca26"
             ],
             [
              1,
              "#f0f921"
             ]
            ],
            "type": "histogram2dcontour"
           }
          ],
          "mesh3d": [
           {
            "colorbar": {
             "outlinewidth": 0,
             "ticks": ""
            },
            "type": "mesh3d"
           }
          ],
          "parcoords": [
           {
            "line": {
             "colorbar": {
              "outlinewidth": 0,
              "ticks": ""
             }
            },
            "type": "parcoords"
           }
          ],
          "pie": [
           {
            "automargin": true,
            "type": "pie"
           }
          ],
          "scatter": [
           {
            "fillpattern": {
             "fillmode": "overlay",
             "size": 10,
             "solidity": 0.2
            },
            "type": "scatter"
           }
          ],
          "scatter3d": [
           {
            "line": {
             "colorbar": {
              "outlinewidth": 0,
              "ticks": ""
             }
            },
            "marker": {
             "colorbar": {
              "outlinewidth": 0,
              "ticks": ""
             }
            },
            "type": "scatter3d"
           }
          ],
          "scattercarpet": [
           {
            "marker": {
             "colorbar": {
              "outlinewidth": 0,
              "ticks": ""
             }
            },
            "type": "scattercarpet"
           }
          ],
          "scattergeo": [
           {
            "marker": {
             "colorbar": {
              "outlinewidth": 0,
              "ticks": ""
             }
            },
            "type": "scattergeo"
           }
          ],
          "scattergl": [
           {
            "marker": {
             "colorbar": {
              "outlinewidth": 0,
              "ticks": ""
             }
            },
            "type": "scattergl"
           }
          ],
          "scattermapbox": [
           {
            "marker": {
             "colorbar": {
              "outlinewidth": 0,
              "ticks": ""
             }
            },
            "type": "scattermapbox"
           }
          ],
          "scatterpolar": [
           {
            "marker": {
             "colorbar": {
              "outlinewidth": 0,
              "ticks": ""
             }
            },
            "type": "scatterpolar"
           }
          ],
          "scatterpolargl": [
           {
            "marker": {
             "colorbar": {
              "outlinewidth": 0,
              "ticks": ""
             }
            },
            "type": "scatterpolargl"
           }
          ],
          "scatterternary": [
           {
            "marker": {
             "colorbar": {
              "outlinewidth": 0,
              "ticks": ""
             }
            },
            "type": "scatterternary"
           }
          ],
          "surface": [
           {
            "colorbar": {
             "outlinewidth": 0,
             "ticks": ""
            },
            "colorscale": [
             [
              0,
              "#0d0887"
             ],
             [
              0.1111111111111111,
              "#46039f"
             ],
             [
              0.2222222222222222,
              "#7201a8"
             ],
             [
              0.3333333333333333,
              "#9c179e"
             ],
             [
              0.4444444444444444,
              "#bd3786"
             ],
             [
              0.5555555555555556,
              "#d8576b"
             ],
             [
              0.6666666666666666,
              "#ed7953"
             ],
             [
              0.7777777777777778,
              "#fb9f3a"
             ],
             [
              0.8888888888888888,
              "#fdca26"
             ],
             [
              1,
              "#f0f921"
             ]
            ],
            "type": "surface"
           }
          ],
          "table": [
           {
            "cells": {
             "fill": {
              "color": "#EBF0F8"
             },
             "line": {
              "color": "white"
             }
            },
            "header": {
             "fill": {
              "color": "#C8D4E3"
             },
             "line": {
              "color": "white"
             }
            },
            "type": "table"
           }
          ]
         },
         "layout": {
          "annotationdefaults": {
           "arrowcolor": "#2a3f5f",
           "arrowhead": 0,
           "arrowwidth": 1
          },
          "autotypenumbers": "strict",
          "coloraxis": {
           "colorbar": {
            "outlinewidth": 0,
            "ticks": ""
           }
          },
          "colorscale": {
           "diverging": [
            [
             0,
             "#8e0152"
            ],
            [
             0.1,
             "#c51b7d"
            ],
            [
             0.2,
             "#de77ae"
            ],
            [
             0.3,
             "#f1b6da"
            ],
            [
             0.4,
             "#fde0ef"
            ],
            [
             0.5,
             "#f7f7f7"
            ],
            [
             0.6,
             "#e6f5d0"
            ],
            [
             0.7,
             "#b8e186"
            ],
            [
             0.8,
             "#7fbc41"
            ],
            [
             0.9,
             "#4d9221"
            ],
            [
             1,
             "#276419"
            ]
           ],
           "sequential": [
            [
             0,
             "#0d0887"
            ],
            [
             0.1111111111111111,
             "#46039f"
            ],
            [
             0.2222222222222222,
             "#7201a8"
            ],
            [
             0.3333333333333333,
             "#9c179e"
            ],
            [
             0.4444444444444444,
             "#bd3786"
            ],
            [
             0.5555555555555556,
             "#d8576b"
            ],
            [
             0.6666666666666666,
             "#ed7953"
            ],
            [
             0.7777777777777778,
             "#fb9f3a"
            ],
            [
             0.8888888888888888,
             "#fdca26"
            ],
            [
             1,
             "#f0f921"
            ]
           ],
           "sequentialminus": [
            [
             0,
             "#0d0887"
            ],
            [
             0.1111111111111111,
             "#46039f"
            ],
            [
             0.2222222222222222,
             "#7201a8"
            ],
            [
             0.3333333333333333,
             "#9c179e"
            ],
            [
             0.4444444444444444,
             "#bd3786"
            ],
            [
             0.5555555555555556,
             "#d8576b"
            ],
            [
             0.6666666666666666,
             "#ed7953"
            ],
            [
             0.7777777777777778,
             "#fb9f3a"
            ],
            [
             0.8888888888888888,
             "#fdca26"
            ],
            [
             1,
             "#f0f921"
            ]
           ]
          },
          "colorway": [
           "#636efa",
           "#EF553B",
           "#00cc96",
           "#ab63fa",
           "#FFA15A",
           "#19d3f3",
           "#FF6692",
           "#B6E880",
           "#FF97FF",
           "#FECB52"
          ],
          "font": {
           "color": "#2a3f5f"
          },
          "geo": {
           "bgcolor": "white",
           "lakecolor": "white",
           "landcolor": "#E5ECF6",
           "showlakes": true,
           "showland": true,
           "subunitcolor": "white"
          },
          "hoverlabel": {
           "align": "left"
          },
          "hovermode": "closest",
          "mapbox": {
           "style": "light"
          },
          "paper_bgcolor": "white",
          "plot_bgcolor": "#E5ECF6",
          "polar": {
           "angularaxis": {
            "gridcolor": "white",
            "linecolor": "white",
            "ticks": ""
           },
           "bgcolor": "#E5ECF6",
           "radialaxis": {
            "gridcolor": "white",
            "linecolor": "white",
            "ticks": ""
           }
          },
          "scene": {
           "xaxis": {
            "backgroundcolor": "#E5ECF6",
            "gridcolor": "white",
            "gridwidth": 2,
            "linecolor": "white",
            "showbackground": true,
            "ticks": "",
            "zerolinecolor": "white"
           },
           "yaxis": {
            "backgroundcolor": "#E5ECF6",
            "gridcolor": "white",
            "gridwidth": 2,
            "linecolor": "white",
            "showbackground": true,
            "ticks": "",
            "zerolinecolor": "white"
           },
           "zaxis": {
            "backgroundcolor": "#E5ECF6",
            "gridcolor": "white",
            "gridwidth": 2,
            "linecolor": "white",
            "showbackground": true,
            "ticks": "",
            "zerolinecolor": "white"
           }
          },
          "shapedefaults": {
           "line": {
            "color": "#2a3f5f"
           }
          },
          "ternary": {
           "aaxis": {
            "gridcolor": "white",
            "linecolor": "white",
            "ticks": ""
           },
           "baxis": {
            "gridcolor": "white",
            "linecolor": "white",
            "ticks": ""
           },
           "bgcolor": "#E5ECF6",
           "caxis": {
            "gridcolor": "white",
            "linecolor": "white",
            "ticks": ""
           }
          },
          "title": {
           "x": 0.05
          },
          "xaxis": {
           "automargin": true,
           "gridcolor": "white",
           "linecolor": "white",
           "ticks": "",
           "title": {
            "standoff": 15
           },
           "zerolinecolor": "white",
           "zerolinewidth": 2
          },
          "yaxis": {
           "automargin": true,
           "gridcolor": "white",
           "linecolor": "white",
           "ticks": "",
           "title": {
            "standoff": 15
           },
           "zerolinecolor": "white",
           "zerolinewidth": 2
          }
         }
        },
        "title": {
         "text": "Scatter plot of hp and defense"
        },
        "xaxis": {
         "title": {
          "text": "hp"
         }
        },
        "yaxis": {
         "title": {
          "text": "defense"
         }
        }
       }
      },
      "text/html": [
       "<div>                            <div id=\"2be17bae-6972-4ce6-8d6e-a48d380aa1fb\" class=\"plotly-graph-div\" style=\"height:525px; width:100%;\"></div>            <script type=\"text/javascript\">                require([\"plotly\"], function(Plotly) {                    window.PLOTLYENV=window.PLOTLYENV || {};                                    if (document.getElementById(\"2be17bae-6972-4ce6-8d6e-a48d380aa1fb\")) {                    Plotly.newPlot(                        \"2be17bae-6972-4ce6-8d6e-a48d380aa1fb\",                        [{\"marker\":{\"showscale\":true,\"size\":10},\"mode\":\"markers\",\"text\":[\"Bulbasaur\",\"Ivysaur\",\"Venusaur\",\"Charmander\",\"Charmeleon\",\"Charizard\",\"Squirtle\",\"Wartortle\",\"Blastoise\",\"Caterpie\",\"Metapod\",\"Butterfree\",\"Weedle\",\"Kakuna\",\"Beedrill\",\"Pidgey\",\"Pidgeotto\",\"Pidgeot\",\"Rattata\",\"Raticate\",\"Spearow\",\"Fearow\",\"Ekans\",\"Arbok\",\"Pikachu\",\"Raichu\",\"Sandshrew\",\"Sandslash\",\"Nidoran\\u2640\",\"Nidorina\",\"Nidoqueen\",\"Nidoran\\u2642\",\"Nidorino\",\"Nidoking\",\"Clefairy\",\"Clefable\",\"Vulpix\",\"Ninetales\",\"Jigglypuff\",\"Wigglytuff\",\"Zubat\",\"Golbat\",\"Oddish\",\"Gloom\",\"Vileplume\",\"Paras\",\"Parasect\",\"Venonat\",\"Venomoth\",\"Diglett\",\"Dugtrio\",\"Meowth\",\"Persian\",\"Psyduck\",\"Golduck\",\"Mankey\",\"Primeape\",\"Growlithe\",\"Arcanine\",\"Poliwag\",\"Poliwhirl\",\"Poliwrath\",\"Abra\",\"Kadabra\",\"Alakazam\",\"Machop\",\"Machoke\",\"Machamp\",\"Bellsprout\",\"Weepinbell\",\"Victreebel\",\"Tentacool\",\"Tentacruel\",\"Geodude\",\"Graveler\",\"Golem\",\"Ponyta\",\"Rapidash\",\"Slowpoke\",\"Slowbro\",\"Magnemite\",\"Magneton\",\"Farfetch'd\",\"Doduo\",\"Dodrio\",\"Seel\",\"Dewgong\",\"Grimer\",\"Muk\",\"Shellder\",\"Cloyster\",\"Gastly\",\"Haunter\",\"Gengar\",\"Onix\",\"Drowzee\",\"Hypno\",\"Krabby\",\"Kingler\",\"Voltorb\",\"Electrode\",\"Exeggcute\",\"Exeggutor\",\"Cubone\",\"Marowak\",\"Hitmonlee\",\"Hitmonchan\",\"Lickitung\",\"Koffing\",\"Weezing\",\"Rhyhorn\",\"Rhydon\",\"Chansey\",\"Tangela\",\"Kangaskhan\",\"Horsea\",\"Seadra\",\"Goldeen\",\"Seaking\",\"Staryu\",\"Starmie\",\"Mr. Mime\",\"Scyther\",\"Jynx\",\"Electabuzz\",\"Magmar\",\"Pinsir\",\"Tauros\",\"Magikarp\",\"Gyarados\",\"Lapras\",\"Ditto\",\"Eevee\",\"Vaporeon\",\"Jolteon\",\"Flareon\",\"Porygon\",\"Omanyte\",\"Omastar\",\"Kabuto\",\"Kabutops\",\"Aerodactyl\",\"Snorlax\",\"Articuno\",\"Zapdos\",\"Moltres\",\"Dratini\",\"Dragonair\",\"Dragonite\",\"Mewtwo\",\"Mew\",\"Chikorita\",\"Bayleef\",\"Meganium\",\"Cyndaquil\",\"Quilava\",\"Typhlosion\",\"Totodile\",\"Croconaw\",\"Feraligatr\",\"Sentret\",\"Furret\",\"Hoothoot\",\"Noctowl\",\"Ledyba\",\"Ledian\",\"Spinarak\",\"Ariados\",\"Crobat\",\"Chinchou\",\"Lanturn\",\"Pichu\",\"Cleffa\",\"Igglybuff\",\"Togepi\",\"Togetic\",\"Natu\",\"Xatu\",\"Mareep\",\"Flaaffy\",\"Ampharos\",\"Bellossom\",\"Marill\",\"Azumarill\",\"Sudowoodo\",\"Politoed\",\"Hoppip\",\"Skiploom\",\"Jumpluff\",\"Aipom\",\"Sunkern\",\"Sunflora\",\"Yanma\",\"Wooper\",\"Quagsire\",\"Espeon\",\"Umbreon\",\"Murkrow\",\"Slowking\",\"Misdreavus\",\"Unown\",\"Wobbuffet\",\"Girafarig\",\"Pineco\",\"Forretress\",\"Dunsparce\",\"Gligar\",\"Steelix\",\"Snubbull\",\"Granbull\",\"Qwilfish\",\"Scizor\",\"Shuckle\",\"Heracross\",\"Sneasel\",\"Teddiursa\",\"Ursaring\",\"Slugma\",\"Magcargo\",\"Swinub\",\"Piloswine\",\"Corsola\",\"Remoraid\",\"Octillery\",\"Delibird\",\"Mantine\",\"Skarmory\",\"Houndour\",\"Houndoom\",\"Kingdra\",\"Phanpy\",\"Donphan\",\"Porygon2\",\"Stantler\",\"Smeargle\",\"Tyrogue\",\"Hitmontop\",\"Smoochum\",\"Elekid\",\"Magby\",\"Miltank\",\"Blissey\",\"Raikou\",\"Entei\",\"Suicune\",\"Larvitar\",\"Pupitar\",\"Tyranitar\",\"Lugia\",\"Ho-Oh\",\"Celebi\",\"Treecko\",\"Grovyle\",\"Sceptile\",\"Torchic\",\"Combusken\",\"Blaziken\",\"Mudkip\",\"Marshtomp\",\"Swampert\",\"Poochyena\",\"Mightyena\",\"Zigzagoon\",\"Linoone\",\"Wurmple\",\"Silcoon\",\"Beautifly\",\"Cascoon\",\"Dustox\",\"Lotad\",\"Lombre\",\"Ludicolo\",\"Seedot\",\"Nuzleaf\",\"Shiftry\",\"Taillow\",\"Swellow\",\"Wingull\",\"Pelipper\",\"Ralts\",\"Kirlia\",\"Gardevoir\",\"Surskit\",\"Masquerain\",\"Shroomish\",\"Breloom\",\"Slakoth\",\"Vigoroth\",\"Slaking\",\"Nincada\",\"Ninjask\",\"Shedinja\",\"Whismur\",\"Loudred\",\"Exploud\",\"Makuhita\",\"Hariyama\",\"Azurill\",\"Nosepass\",\"Skitty\",\"Delcatty\",\"Sableye\",\"Mawile\",\"Aron\",\"Lairon\",\"Aggron\",\"Meditite\",\"Medicham\",\"Electrike\",\"Manectric\",\"Plusle\",\"Minun\",\"Volbeat\",\"Illumise\",\"Roselia\",\"Gulpin\",\"Swalot\",\"Carvanha\",\"Sharpedo\",\"Wailmer\",\"Wailord\",\"Numel\",\"Camerupt\",\"Torkoal\",\"Spoink\",\"Grumpig\",\"Spinda\",\"Trapinch\",\"Vibrava\",\"Flygon\",\"Cacnea\",\"Cacturne\",\"Swablu\",\"Altaria\",\"Zangoose\",\"Seviper\",\"Lunatone\",\"Solrock\",\"Barboach\",\"Whiscash\",\"Corphish\",\"Crawdaunt\",\"Baltoy\",\"Claydol\",\"Lileep\",\"Cradily\",\"Anorith\",\"Armaldo\",\"Feebas\",\"Milotic\",\"Castform\",\"Kecleon\",\"Shuppet\",\"Banette\",\"Duskull\",\"Dusclops\",\"Tropius\",\"Chimecho\",\"Absol\",\"Wynaut\",\"Snorunt\",\"Glalie\",\"Spheal\",\"Sealeo\",\"Walrein\",\"Clamperl\",\"Huntail\",\"Gorebyss\",\"Relicanth\",\"Luvdisc\",\"Bagon\",\"Shelgon\",\"Salamence\",\"Beldum\",\"Metang\",\"Metagross\",\"Regirock\",\"Regice\",\"Registeel\",\"Latias\",\"Latios\",\"Kyogre\",\"Groudon\",\"Rayquaza\",\"Jirachi\",\"Deoxys\",\"Turtwig\",\"Grotle\",\"Torterra\",\"Chimchar\",\"Monferno\",\"Infernape\",\"Piplup\",\"Prinplup\",\"Empoleon\",\"Starly\",\"Staravia\",\"Staraptor\",\"Bidoof\",\"Bibarel\",\"Kricketot\",\"Kricketune\",\"Shinx\",\"Luxio\",\"Luxray\",\"Budew\",\"Roserade\",\"Cranidos\",\"Rampardos\",\"Shieldon\",\"Bastiodon\",\"Burmy\",\"Wormadam\",\"Mothim\",\"Combee\",\"Vespiquen\",\"Pachirisu\",\"Buizel\",\"Floatzel\",\"Cherubi\",\"Cherrim\",\"Shellos\",\"Gastrodon\",\"Ambipom\",\"Drifloon\",\"Drifblim\",\"Buneary\",\"Lopunny\",\"Mismagius\",\"Honchkrow\",\"Glameow\",\"Purugly\",\"Chingling\",\"Stunky\",\"Skuntank\",\"Bronzor\",\"Bronzong\",\"Bonsly\",\"Mime Jr.\",\"Happiny\",\"Chatot\",\"Spiritomb\",\"Gible\",\"Gabite\",\"Garchomp\",\"Munchlax\",\"Riolu\",\"Lucario\",\"Hippopotas\",\"Hippowdon\",\"Skorupi\",\"Drapion\",\"Croagunk\",\"Toxicroak\",\"Carnivine\",\"Finneon\",\"Lumineon\",\"Mantyke\",\"Snover\",\"Abomasnow\",\"Weavile\",\"Magnezone\",\"Lickilicky\",\"Rhyperior\",\"Tangrowth\",\"Electivire\",\"Magmortar\",\"Togekiss\",\"Yanmega\",\"Leafeon\",\"Glaceon\",\"Gliscor\",\"Mamoswine\",\"Porygon-Z\",\"Gallade\",\"Probopass\",\"Dusknoir\",\"Froslass\",\"Rotom\",\"Uxie\",\"Mesprit\",\"Azelf\",\"Dialga\",\"Palkia\",\"Heatran\",\"Regigigas\",\"Giratina\",\"Cresselia\",\"Phione\",\"Manaphy\",\"Darkrai\",\"Shaymin\",\"Arceus\",\"Victini\",\"Snivy\",\"Servine\",\"Serperior\",\"Tepig\",\"Pignite\",\"Emboar\",\"Oshawott\",\"Dewott\",\"Samurott\",\"Patrat\",\"Watchog\",\"Lillipup\",\"Herdier\",\"Stoutland\",\"Purrloin\",\"Liepard\",\"Pansage\",\"Simisage\",\"Pansear\",\"Simisear\",\"Panpour\",\"Simipour\",\"Munna\",\"Musharna\",\"Pidove\",\"Tranquill\",\"Unfezant\",\"Blitzle\",\"Zebstrika\",\"Roggenrola\",\"Boldore\",\"Gigalith\",\"Woobat\",\"Swoobat\",\"Drilbur\",\"Excadrill\",\"Audino\",\"Timburr\",\"Gurdurr\",\"Conkeldurr\",\"Tympole\",\"Palpitoad\",\"Seismitoad\",\"Throh\",\"Sawk\",\"Sewaddle\",\"Swadloon\",\"Leavanny\",\"Venipede\",\"Whirlipede\",\"Scolipede\",\"Cottonee\",\"Whimsicott\",\"Petilil\",\"Lilligant\",\"Basculin\",\"Sandile\",\"Krokorok\",\"Krookodile\",\"Darumaka\",\"Darmanitan\",\"Maractus\",\"Dwebble\",\"Crustle\",\"Scraggy\",\"Scrafty\",\"Sigilyph\",\"Yamask\",\"Cofagrigus\",\"Tirtouga\",\"Carracosta\",\"Archen\",\"Archeops\",\"Trubbish\",\"Garbodor\",\"Zorua\",\"Zoroark\",\"Minccino\",\"Cinccino\",\"Gothita\",\"Gothorita\",\"Gothitelle\",\"Solosis\",\"Duosion\",\"Reuniclus\",\"Ducklett\",\"Swanna\",\"Vanillite\",\"Vanillish\",\"Vanilluxe\",\"Deerling\",\"Sawsbuck\",\"Emolga\",\"Karrablast\",\"Escavalier\",\"Foongus\",\"Amoonguss\",\"Frillish\",\"Jellicent\",\"Alomomola\",\"Joltik\",\"Galvantula\",\"Ferroseed\",\"Ferrothorn\",\"Klink\",\"Klang\",\"Klinklang\",\"Tynamo\",\"Eelektrik\",\"Eelektross\",\"Elgyem\",\"Beheeyem\",\"Litwick\",\"Lampent\",\"Chandelure\",\"Axew\",\"Fraxure\",\"Haxorus\",\"Cubchoo\",\"Beartic\",\"Cryogonal\",\"Shelmet\",\"Accelgor\",\"Stunfisk\",\"Mienfoo\",\"Mienshao\",\"Druddigon\",\"Golett\",\"Golurk\",\"Pawniard\",\"Bisharp\",\"Bouffalant\",\"Rufflet\",\"Braviary\",\"Vullaby\",\"Mandibuzz\",\"Heatmor\",\"Durant\",\"Deino\",\"Zweilous\",\"Hydreigon\",\"Larvesta\",\"Volcarona\",\"Cobalion\",\"Terrakion\",\"Virizion\",\"Tornadus\",\"Thundurus\",\"Reshiram\",\"Zekrom\",\"Landorus\",\"Kyurem\",\"Keldeo\",\"Meloetta\",\"Genesect\",\"Chespin\",\"Quilladin\",\"Chesnaught\",\"Fennekin\",\"Braixen\",\"Delphox\",\"Froakie\",\"Frogadier\",\"Greninja\",\"Bunnelby\",\"Diggersby\",\"Fletchling\",\"Fletchinder\",\"Talonflame\",\"Scatterbug\",\"Spewpa\",\"Vivillon\",\"Litleo\",\"Pyroar\",\"Flab\\u00e9b\\u00e9\",\"Floette\",\"Florges\",\"Skiddo\",\"Gogoat\",\"Pancham\",\"Pangoro\",\"Furfrou\",\"Espurr\",\"Meowstic\",\"Honedge\",\"Doublade\",\"Aegislash\",\"Spritzee\",\"Aromatisse\",\"Swirlix\",\"Slurpuff\",\"Inkay\",\"Malamar\",\"Binacle\",\"Barbaracle\",\"Skrelp\",\"Dragalge\",\"Clauncher\",\"Clawitzer\",\"Helioptile\",\"Heliolisk\",\"Tyrunt\",\"Tyrantrum\",\"Amaura\",\"Aurorus\",\"Sylveon\",\"Hawlucha\",\"Dedenne\",\"Carbink\",\"Goomy\",\"Sliggoo\",\"Goodra\",\"Klefki\",\"Phantump\",\"Trevenant\",\"Pumpkaboo\",\"Gourgeist\",\"Bergmite\",\"Avalugg\",\"Noibat\",\"Noivern\",\"Xerneas\",\"Yveltal\",\"Zygarde\",\"Diancie\",\"Hoopa\",\"Volcanion\",\"Rowlet\",\"Dartrix\",\"Decidueye\",\"Litten\",\"Torracat\",\"Incineroar\",\"Popplio\",\"Brionne\",\"Primarina\",\"Pikipek\",\"Trumbeak\",\"Toucannon\",\"Yungoos\",\"Gumshoos\",\"Grubbin\",\"Charjabug\",\"Vikavolt\",\"Crabrawler\",\"Crabominable\",\"Oricorio\",\"Cutiefly\",\"Ribombee\",\"Rockruff\",\"Lycanroc\",\"Wishiwashi\",\"Mareanie\",\"Toxapex\",\"Mudbray\",\"Mudsdale\",\"Dewpider\",\"Araquanid\",\"Fomantis\",\"Lurantis\",\"Morelull\",\"Shiinotic\",\"Salandit\",\"Salazzle\",\"Stufful\",\"Bewear\",\"Bounsweet\",\"Steenee\",\"Tsareena\",\"Comfey\",\"Oranguru\",\"Passimian\",\"Wimpod\",\"Golisopod\",\"Sandygast\",\"Palossand\",\"Pyukumuku\",\"Type: Null\",\"Silvally\",\"Minior\",\"Komala\",\"Turtonator\",\"Togedemaru\",\"Mimikyu\",\"Bruxish\",\"Drampa\",\"Dhelmise\",\"Jangmo-o\",\"Hakamo-o\",\"Kommo-o\",\"Tapu Koko\",\"Tapu Lele\",\"Tapu Bulu\",\"Tapu Fini\",\"Cosmog\",\"Cosmoem\",\"Solgaleo\",\"Lunala\",\"Nihilego\",\"Buzzwole\",\"Pheromosa\",\"Xurkitree\",\"Celesteela\",\"Kartana\",\"Guzzlord\",\"Necrozma\",\"Magearna\"],\"x\":[45,60,80,39,58,78,44,59,79,45,50,60,40,45,65,40,63,83,30,75,40,65,35,60,35,60,50,75,55,70,90,46,61,81,70,95,38,73,115,140,40,75,45,60,75,35,60,60,70,10,35,40,65,50,80,40,65,55,90,40,65,90,25,40,55,70,80,90,50,65,80,40,80,40,55,80,50,65,90,95,25,50,52,35,60,65,90,80,105,30,50,30,45,60,35,60,85,30,55,40,60,60,95,50,60,50,50,90,40,65,80,105,250,65,105,30,55,45,80,30,60,40,70,65,65,65,65,75,20,95,130,48,55,130,65,65,65,35,70,30,60,80,160,90,90,90,41,61,91,106,100,45,60,80,39,58,78,50,65,85,35,85,60,100,40,55,40,70,85,75,125,20,50,90,35,55,40,65,55,70,90,75,70,100,70,90,35,55,75,55,30,75,65,55,95,65,95,60,95,60,48,190,70,50,75,100,65,75,60,90,65,70,20,80,55,60,90,40,60,50,100,65,35,75,45,85,65,45,75,75,90,90,85,73,55,35,50,45,45,45,95,255,90,115,100,50,70,100,106,106,100,40,50,70,45,60,80,50,70,100,35,70,38,78,45,50,60,50,60,40,60,80,40,70,90,40,60,40,60,28,38,68,40,70,60,60,60,80,150,31,61,1,64,84,104,72,144,50,30,50,70,50,50,50,60,70,30,60,40,70,60,60,65,65,50,70,100,45,70,130,170,60,70,70,60,80,60,45,50,80,50,70,45,75,73,73,90,90,50,110,43,63,40,60,66,86,45,75,20,95,70,60,44,64,20,40,99,75,65,95,50,80,70,90,110,35,55,55,100,43,45,65,95,40,60,80,80,80,80,80,80,100,100,105,100,50,55,75,95,44,64,76,53,64,84,40,55,85,59,79,37,77,45,60,80,40,60,67,97,30,60,40,60,70,30,70,60,55,85,45,70,76,111,75,90,150,55,65,60,100,49,71,45,63,103,57,67,50,20,100,76,50,58,68,108,135,40,70,68,108,40,70,48,83,74,49,69,45,60,90,70,70,110,115,100,75,75,85,86,65,65,75,110,85,68,60,45,70,50,75,80,75,100,90,91,110,150,120,80,100,70,100,120,100,45,60,75,65,90,110,55,75,95,45,60,45,65,85,41,64,50,75,50,75,50,75,76,116,50,62,80,45,75,55,70,85,65,67,60,110,103,75,85,105,50,75,105,120,75,45,55,75,30,40,60,40,60,45,70,70,50,60,95,70,105,75,50,70,50,65,72,38,58,54,74,55,75,50,80,40,60,55,75,45,60,70,45,65,110,62,75,36,51,71,60,80,55,50,70,69,114,55,100,165,50,70,44,74,40,60,60,35,65,85,55,75,50,60,60,46,66,76,55,95,80,50,80,109,45,65,77,59,89,45,65,95,70,100,70,110,85,58,52,72,92,55,85,91,91,91,79,79,100,100,89,125,91,100,71,56,61,88,40,59,75,41,54,72,38,85,45,62,78,38,45,80,62,86,44,74,78,66,123,67,95,75,62,74,45,59,60,78,101,62,82,53,86,42,72,50,65,50,71,44,62,58,82,77,123,95,78,67,50,45,68,90,57,43,85,59,85,55,95,40,85,126,126,216,50,80,80,68,78,78,45,65,95,50,60,80,35,55,80,48,88,47,57,77,47,97,75,40,60,45,85,45,50,50,70,100,38,68,40,70,40,60,48,68,70,120,42,52,72,51,90,100,25,75,55,85,55,95,95,60,65,60,65,55,68,78,70,45,55,75,70,70,70,70,43,43,137,137,109,107,71,83,97,59,223,97,80],\"y\":[49,63,123,43,58,78,65,80,120,35,55,50,30,50,40,40,55,80,35,70,30,65,44,69,40,50,90,120,52,67,87,40,57,77,48,73,40,75,20,45,35,70,55,70,85,55,80,50,60,30,60,35,60,48,78,35,60,45,80,40,65,95,15,30,65,50,70,80,35,50,65,35,65,100,115,130,55,70,65,180,70,95,55,45,70,55,80,50,75,100,180,30,45,80,160,45,70,90,115,50,70,80,85,95,110,53,79,75,95,120,95,120,5,115,100,70,95,60,65,55,85,65,80,35,57,57,120,95,55,109,80,48,50,60,60,60,70,100,125,90,105,85,65,100,85,90,45,65,95,70,100,65,80,100,43,58,78,64,80,100,34,64,30,50,30,50,40,70,80,38,58,15,28,15,65,85,45,70,40,55,105,95,50,80,115,75,40,50,70,55,30,55,45,45,85,60,110,42,80,60,48,58,65,90,140,70,105,230,50,75,85,140,230,115,55,50,75,40,120,40,80,95,35,75,45,70,140,30,90,95,60,120,90,62,35,35,95,15,37,37,105,10,75,85,115,50,70,150,130,90,100,35,45,75,40,60,80,50,70,110,35,70,41,61,35,55,50,55,70,30,50,70,50,40,60,30,60,30,100,25,35,65,32,62,60,80,60,80,100,90,45,45,23,43,63,30,60,40,135,45,65,125,125,100,140,230,55,85,40,80,40,50,75,75,45,53,83,20,70,35,45,40,100,140,35,65,60,45,50,80,40,60,60,110,60,60,65,85,43,73,65,85,55,105,77,97,50,100,20,79,70,70,35,75,90,130,83,80,60,48,50,80,50,70,90,85,105,105,130,55,60,100,130,80,100,150,200,100,150,120,100,90,160,100,100,90,64,85,105,44,52,71,53,68,88,30,50,70,40,60,41,51,34,49,79,35,65,40,60,118,168,45,95,50,42,102,70,35,55,45,70,48,68,66,34,44,44,94,60,52,42,64,50,47,67,86,116,95,45,5,45,108,45,65,115,40,40,88,78,118,90,110,40,65,72,56,76,50,50,105,65,115,95,130,125,67,67,95,86,130,110,125,80,70,95,145,135,70,107,130,105,70,120,100,106,110,100,120,80,100,90,75,120,100,55,75,95,45,55,65,45,60,85,39,69,45,65,90,37,50,48,63,48,63,48,63,45,85,50,62,80,32,63,85,105,130,43,55,40,60,126,55,85,95,40,55,75,85,75,70,90,80,59,99,89,60,85,50,75,65,35,45,80,45,105,67,85,125,70,115,80,85,145,103,133,45,65,62,82,40,60,40,60,50,70,95,40,50,75,50,63,50,65,85,50,70,60,45,105,45,70,50,70,80,50,60,91,131,70,95,115,40,70,80,55,75,55,60,90,60,70,90,40,80,50,85,40,84,50,60,90,50,80,70,100,95,50,75,75,105,66,112,50,70,90,55,65,129,90,72,80,70,100,120,90,90,90,90,95,65,95,122,40,58,72,40,52,67,38,77,43,55,71,40,60,50,58,72,39,67,68,48,62,62,78,60,54,76,100,150,50,60,72,66,86,53,88,67,115,60,90,62,88,33,52,77,119,50,72,65,75,57,150,35,53,70,91,48,76,70,122,85,184,35,80,95,95,121,110,60,120,55,75,75,40,50,90,54,69,74,30,50,75,30,60,45,95,90,57,77,70,40,60,40,75,130,62,152,70,100,52,92,35,90,55,80,40,60,50,80,38,48,98,90,80,90,40,140,80,110,130,95,95,60,65,135,63,80,70,85,100,65,90,125,85,75,115,115,31,131,107,89,47,139,37,71,103,131,53,101,115],\"type\":\"scatter\"}],                        {\"showlegend\":false,\"template\":{\"data\":{\"barpolar\":[{\"marker\":{\"line\":{\"color\":\"#E5ECF6\",\"width\":0.5},\"pattern\":{\"fillmode\":\"overlay\",\"size\":10,\"solidity\":0.2}},\"type\":\"barpolar\"}],\"bar\":[{\"error_x\":{\"color\":\"#2a3f5f\"},\"error_y\":{\"color\":\"#2a3f5f\"},\"marker\":{\"line\":{\"color\":\"#E5ECF6\",\"width\":0.5},\"pattern\":{\"fillmode\":\"overlay\",\"size\":10,\"solidity\":0.2}},\"type\":\"bar\"}],\"carpet\":[{\"aaxis\":{\"endlinecolor\":\"#2a3f5f\",\"gridcolor\":\"white\",\"linecolor\":\"white\",\"minorgridcolor\":\"white\",\"startlinecolor\":\"#2a3f5f\"},\"baxis\":{\"endlinecolor\":\"#2a3f5f\",\"gridcolor\":\"white\",\"linecolor\":\"white\",\"minorgridcolor\":\"white\",\"startlinecolor\":\"#2a3f5f\"},\"type\":\"carpet\"}],\"choropleth\":[{\"colorbar\":{\"outlinewidth\":0,\"ticks\":\"\"},\"type\":\"choropleth\"}],\"contourcarpet\":[{\"colorbar\":{\"outlinewidth\":0,\"ticks\":\"\"},\"type\":\"contourcarpet\"}],\"contour\":[{\"colorbar\":{\"outlinewidth\":0,\"ticks\":\"\"},\"colorscale\":[[0.0,\"#0d0887\"],[0.1111111111111111,\"#46039f\"],[0.2222222222222222,\"#7201a8\"],[0.3333333333333333,\"#9c179e\"],[0.4444444444444444,\"#bd3786\"],[0.5555555555555556,\"#d8576b\"],[0.6666666666666666,\"#ed7953\"],[0.7777777777777778,\"#fb9f3a\"],[0.8888888888888888,\"#fdca26\"],[1.0,\"#f0f921\"]],\"type\":\"contour\"}],\"heatmapgl\":[{\"colorbar\":{\"outlinewidth\":0,\"ticks\":\"\"},\"colorscale\":[[0.0,\"#0d0887\"],[0.1111111111111111,\"#46039f\"],[0.2222222222222222,\"#7201a8\"],[0.3333333333333333,\"#9c179e\"],[0.4444444444444444,\"#bd3786\"],[0.5555555555555556,\"#d8576b\"],[0.6666666666666666,\"#ed7953\"],[0.7777777777777778,\"#fb9f3a\"],[0.8888888888888888,\"#fdca26\"],[1.0,\"#f0f921\"]],\"type\":\"heatmapgl\"}],\"heatmap\":[{\"colorbar\":{\"outlinewidth\":0,\"ticks\":\"\"},\"colorscale\":[[0.0,\"#0d0887\"],[0.1111111111111111,\"#46039f\"],[0.2222222222222222,\"#7201a8\"],[0.3333333333333333,\"#9c179e\"],[0.4444444444444444,\"#bd3786\"],[0.5555555555555556,\"#d8576b\"],[0.6666666666666666,\"#ed7953\"],[0.7777777777777778,\"#fb9f3a\"],[0.8888888888888888,\"#fdca26\"],[1.0,\"#f0f921\"]],\"type\":\"heatmap\"}],\"histogram2dcontour\":[{\"colorbar\":{\"outlinewidth\":0,\"ticks\":\"\"},\"colorscale\":[[0.0,\"#0d0887\"],[0.1111111111111111,\"#46039f\"],[0.2222222222222222,\"#7201a8\"],[0.3333333333333333,\"#9c179e\"],[0.4444444444444444,\"#bd3786\"],[0.5555555555555556,\"#d8576b\"],[0.6666666666666666,\"#ed7953\"],[0.7777777777777778,\"#fb9f3a\"],[0.8888888888888888,\"#fdca26\"],[1.0,\"#f0f921\"]],\"type\":\"histogram2dcontour\"}],\"histogram2d\":[{\"colorbar\":{\"outlinewidth\":0,\"ticks\":\"\"},\"colorscale\":[[0.0,\"#0d0887\"],[0.1111111111111111,\"#46039f\"],[0.2222222222222222,\"#7201a8\"],[0.3333333333333333,\"#9c179e\"],[0.4444444444444444,\"#bd3786\"],[0.5555555555555556,\"#d8576b\"],[0.6666666666666666,\"#ed7953\"],[0.7777777777777778,\"#fb9f3a\"],[0.8888888888888888,\"#fdca26\"],[1.0,\"#f0f921\"]],\"type\":\"histogram2d\"}],\"histogram\":[{\"marker\":{\"pattern\":{\"fillmode\":\"overlay\",\"size\":10,\"solidity\":0.2}},\"type\":\"histogram\"}],\"mesh3d\":[{\"colorbar\":{\"outlinewidth\":0,\"ticks\":\"\"},\"type\":\"mesh3d\"}],\"parcoords\":[{\"line\":{\"colorbar\":{\"outlinewidth\":0,\"ticks\":\"\"}},\"type\":\"parcoords\"}],\"pie\":[{\"automargin\":true,\"type\":\"pie\"}],\"scatter3d\":[{\"line\":{\"colorbar\":{\"outlinewidth\":0,\"ticks\":\"\"}},\"marker\":{\"colorbar\":{\"outlinewidth\":0,\"ticks\":\"\"}},\"type\":\"scatter3d\"}],\"scattercarpet\":[{\"marker\":{\"colorbar\":{\"outlinewidth\":0,\"ticks\":\"\"}},\"type\":\"scattercarpet\"}],\"scattergeo\":[{\"marker\":{\"colorbar\":{\"outlinewidth\":0,\"ticks\":\"\"}},\"type\":\"scattergeo\"}],\"scattergl\":[{\"marker\":{\"colorbar\":{\"outlinewidth\":0,\"ticks\":\"\"}},\"type\":\"scattergl\"}],\"scattermapbox\":[{\"marker\":{\"colorbar\":{\"outlinewidth\":0,\"ticks\":\"\"}},\"type\":\"scattermapbox\"}],\"scatterpolargl\":[{\"marker\":{\"colorbar\":{\"outlinewidth\":0,\"ticks\":\"\"}},\"type\":\"scatterpolargl\"}],\"scatterpolar\":[{\"marker\":{\"colorbar\":{\"outlinewidth\":0,\"ticks\":\"\"}},\"type\":\"scatterpolar\"}],\"scatter\":[{\"fillpattern\":{\"fillmode\":\"overlay\",\"size\":10,\"solidity\":0.2},\"type\":\"scatter\"}],\"scatterternary\":[{\"marker\":{\"colorbar\":{\"outlinewidth\":0,\"ticks\":\"\"}},\"type\":\"scatterternary\"}],\"surface\":[{\"colorbar\":{\"outlinewidth\":0,\"ticks\":\"\"},\"colorscale\":[[0.0,\"#0d0887\"],[0.1111111111111111,\"#46039f\"],[0.2222222222222222,\"#7201a8\"],[0.3333333333333333,\"#9c179e\"],[0.4444444444444444,\"#bd3786\"],[0.5555555555555556,\"#d8576b\"],[0.6666666666666666,\"#ed7953\"],[0.7777777777777778,\"#fb9f3a\"],[0.8888888888888888,\"#fdca26\"],[1.0,\"#f0f921\"]],\"type\":\"surface\"}],\"table\":[{\"cells\":{\"fill\":{\"color\":\"#EBF0F8\"},\"line\":{\"color\":\"white\"}},\"header\":{\"fill\":{\"color\":\"#C8D4E3\"},\"line\":{\"color\":\"white\"}},\"type\":\"table\"}]},\"layout\":{\"annotationdefaults\":{\"arrowcolor\":\"#2a3f5f\",\"arrowhead\":0,\"arrowwidth\":1},\"autotypenumbers\":\"strict\",\"coloraxis\":{\"colorbar\":{\"outlinewidth\":0,\"ticks\":\"\"}},\"colorscale\":{\"diverging\":[[0,\"#8e0152\"],[0.1,\"#c51b7d\"],[0.2,\"#de77ae\"],[0.3,\"#f1b6da\"],[0.4,\"#fde0ef\"],[0.5,\"#f7f7f7\"],[0.6,\"#e6f5d0\"],[0.7,\"#b8e186\"],[0.8,\"#7fbc41\"],[0.9,\"#4d9221\"],[1,\"#276419\"]],\"sequential\":[[0.0,\"#0d0887\"],[0.1111111111111111,\"#46039f\"],[0.2222222222222222,\"#7201a8\"],[0.3333333333333333,\"#9c179e\"],[0.4444444444444444,\"#bd3786\"],[0.5555555555555556,\"#d8576b\"],[0.6666666666666666,\"#ed7953\"],[0.7777777777777778,\"#fb9f3a\"],[0.8888888888888888,\"#fdca26\"],[1.0,\"#f0f921\"]],\"sequentialminus\":[[0.0,\"#0d0887\"],[0.1111111111111111,\"#46039f\"],[0.2222222222222222,\"#7201a8\"],[0.3333333333333333,\"#9c179e\"],[0.4444444444444444,\"#bd3786\"],[0.5555555555555556,\"#d8576b\"],[0.6666666666666666,\"#ed7953\"],[0.7777777777777778,\"#fb9f3a\"],[0.8888888888888888,\"#fdca26\"],[1.0,\"#f0f921\"]]},\"colorway\":[\"#636efa\",\"#EF553B\",\"#00cc96\",\"#ab63fa\",\"#FFA15A\",\"#19d3f3\",\"#FF6692\",\"#B6E880\",\"#FF97FF\",\"#FECB52\"],\"font\":{\"color\":\"#2a3f5f\"},\"geo\":{\"bgcolor\":\"white\",\"lakecolor\":\"white\",\"landcolor\":\"#E5ECF6\",\"showlakes\":true,\"showland\":true,\"subunitcolor\":\"white\"},\"hoverlabel\":{\"align\":\"left\"},\"hovermode\":\"closest\",\"mapbox\":{\"style\":\"light\"},\"paper_bgcolor\":\"white\",\"plot_bgcolor\":\"#E5ECF6\",\"polar\":{\"angularaxis\":{\"gridcolor\":\"white\",\"linecolor\":\"white\",\"ticks\":\"\"},\"bgcolor\":\"#E5ECF6\",\"radialaxis\":{\"gridcolor\":\"white\",\"linecolor\":\"white\",\"ticks\":\"\"}},\"scene\":{\"xaxis\":{\"backgroundcolor\":\"#E5ECF6\",\"gridcolor\":\"white\",\"gridwidth\":2,\"linecolor\":\"white\",\"showbackground\":true,\"ticks\":\"\",\"zerolinecolor\":\"white\"},\"yaxis\":{\"backgroundcolor\":\"#E5ECF6\",\"gridcolor\":\"white\",\"gridwidth\":2,\"linecolor\":\"white\",\"showbackground\":true,\"ticks\":\"\",\"zerolinecolor\":\"white\"},\"zaxis\":{\"backgroundcolor\":\"#E5ECF6\",\"gridcolor\":\"white\",\"gridwidth\":2,\"linecolor\":\"white\",\"showbackground\":true,\"ticks\":\"\",\"zerolinecolor\":\"white\"}},\"shapedefaults\":{\"line\":{\"color\":\"#2a3f5f\"}},\"ternary\":{\"aaxis\":{\"gridcolor\":\"white\",\"linecolor\":\"white\",\"ticks\":\"\"},\"baxis\":{\"gridcolor\":\"white\",\"linecolor\":\"white\",\"ticks\":\"\"},\"bgcolor\":\"#E5ECF6\",\"caxis\":{\"gridcolor\":\"white\",\"linecolor\":\"white\",\"ticks\":\"\"}},\"title\":{\"x\":0.05},\"xaxis\":{\"automargin\":true,\"gridcolor\":\"white\",\"linecolor\":\"white\",\"ticks\":\"\",\"title\":{\"standoff\":15},\"zerolinecolor\":\"white\",\"zerolinewidth\":2},\"yaxis\":{\"automargin\":true,\"gridcolor\":\"white\",\"linecolor\":\"white\",\"ticks\":\"\",\"title\":{\"standoff\":15},\"zerolinecolor\":\"white\",\"zerolinewidth\":2}}},\"title\":{\"text\":\"Scatter plot of hp and defense\"},\"xaxis\":{\"title\":{\"text\":\"hp\"}},\"yaxis\":{\"title\":{\"text\":\"defense\"}}},                        {\"responsive\": true}                    ).then(function(){\n",
       "                            \n",
       "var gd = document.getElementById('2be17bae-6972-4ce6-8d6e-a48d380aa1fb');\n",
       "var x = new MutationObserver(function (mutations, observer) {{\n",
       "        var display = window.getComputedStyle(gd).display;\n",
       "        if (!display || display === 'none') {{\n",
       "            console.log([gd, 'removed!']);\n",
       "            Plotly.purge(gd);\n",
       "            observer.disconnect();\n",
       "        }}\n",
       "}});\n",
       "\n",
       "// Listen for the removal of the full notebook cells\n",
       "var notebookContainer = gd.closest('#notebook-container');\n",
       "if (notebookContainer) {{\n",
       "    x.observe(notebookContainer, {childList: true});\n",
       "}}\n",
       "\n",
       "// Listen for the clearing of the current output cell\n",
       "var outputEl = gd.closest('.output');\n",
       "if (outputEl) {{\n",
       "    x.observe(outputEl, {childList: true});\n",
       "}}\n",
       "\n",
       "                        })                };                });            </script>        </div>"
      ]
     },
     "metadata": {},
     "output_type": "display_data"
    }
   ],
   "source": [
    "def stat_correlation(stat1, stat2):\n",
    "    data = go.Scatter(\n",
    "        # TODO: Which is x?\n",
    "        x=pokemon[stat1],\n",
    "\n",
    "        # TODO: Which is y?\n",
    "        y=pokemon[stat2],\n",
    "\n",
    "        # TODO: lines, markers, or text\n",
    "        mode='markers',\n",
    "        marker=dict(\n",
    "            size=10,\n",
    "            # TODO: See Color Schemes PNG\n",
    "            # colorscale='Viridis',\n",
    "\n",
    "            # TODO: Color by third stat in scale?\n",
    "            # color=pokemon[\"speed\"],\n",
    "\n",
    "            # TODO: How would you take this third stat as a function input?\n",
    "\n",
    "            # TODO: Specify marker color\n",
    "            # color=color_list,\n",
    "\n",
    "            showscale=True\n",
    "        ),\n",
    "        text=pokemon['name']\n",
    "    )\n",
    "\n",
    "    layout = go.Layout(\n",
    "        xaxis=dict(\n",
    "            title=stat1\n",
    "        ),\n",
    "        yaxis=dict(\n",
    "            title=stat2\n",
    "        ),\n",
    "        # TODO: How could we capitalize these?\n",
    "\n",
    "        showlegend=False,\n",
    "        title=\"Scatter plot of {} and {}\".format(stat1, stat2)\n",
    "        # TODO: Same here?\n",
    "    )\n",
    "\n",
    "    correlation_stats = go.Figure(data=[data], layout=layout)\n",
    "    return correlation_stats\n",
    "\n",
    "\n",
    "iplot(stat_correlation('hp', 'defense'), filename='Stats Correlation')\n",
    "\n",
    "# TODO: How do we compare different stats?"
   ]
  },
  {
   "cell_type": "code",
   "execution_count": 79,
   "metadata": {},
   "outputs": [
    {
     "data": {
      "application/vnd.plotly.v1+json": {
       "config": {
        "linkText": "Export to plot.ly",
        "plotlyServerURL": "https://plot.ly",
        "showLink": false
       },
       "data": [
        {
         "marker": {
          "color": [
           "#A6B91A",
           "#705746",
           "#6F35FC",
           "#F7D02C",
           "#D685AD",
           "#C22E28",
           "#EE8130",
           "#A98FF3",
           "#735797",
           "#7AC74C",
           "#E2BF65",
           "#96D9D6",
           "#A8A77A",
           "#A33EA1",
           "#F95587",
           "#B6A136",
           "#B7B7CE",
           "#6390F0"
          ]
         },
         "name": "['bug', 'dark', 'dragon', 'electric', 'fairy', 'fighting', 'fire', 'flying', 'ghost', 'grass', 'ground', 'ice', 'normal', 'poison', 'psychic', 'rock', 'steel', 'water']",
         "type": "bar",
         "x": [
          "bug",
          "dark",
          "dragon",
          "electric",
          "fairy",
          "fighting",
          "fire",
          "flying",
          "ghost",
          "grass",
          "ground",
          "ice",
          "normal",
          "poison",
          "psychic",
          "rock",
          "steel",
          "water"
         ],
         "y": [
          72,
          29,
          27,
          39,
          18,
          28,
          52,
          3,
          27,
          78,
          32,
          23,
          105,
          32,
          53,
          45,
          24,
          114
         ]
        }
       ],
       "layout": {
        "template": {
         "data": {
          "bar": [
           {
            "error_x": {
             "color": "#2a3f5f"
            },
            "error_y": {
             "color": "#2a3f5f"
            },
            "marker": {
             "line": {
              "color": "#E5ECF6",
              "width": 0.5
             },
             "pattern": {
              "fillmode": "overlay",
              "size": 10,
              "solidity": 0.2
             }
            },
            "type": "bar"
           }
          ],
          "barpolar": [
           {
            "marker": {
             "line": {
              "color": "#E5ECF6",
              "width": 0.5
             },
             "pattern": {
              "fillmode": "overlay",
              "size": 10,
              "solidity": 0.2
             }
            },
            "type": "barpolar"
           }
          ],
          "carpet": [
           {
            "aaxis": {
             "endlinecolor": "#2a3f5f",
             "gridcolor": "white",
             "linecolor": "white",
             "minorgridcolor": "white",
             "startlinecolor": "#2a3f5f"
            },
            "baxis": {
             "endlinecolor": "#2a3f5f",
             "gridcolor": "white",
             "linecolor": "white",
             "minorgridcolor": "white",
             "startlinecolor": "#2a3f5f"
            },
            "type": "carpet"
           }
          ],
          "choropleth": [
           {
            "colorbar": {
             "outlinewidth": 0,
             "ticks": ""
            },
            "type": "choropleth"
           }
          ],
          "contour": [
           {
            "colorbar": {
             "outlinewidth": 0,
             "ticks": ""
            },
            "colorscale": [
             [
              0,
              "#0d0887"
             ],
             [
              0.1111111111111111,
              "#46039f"
             ],
             [
              0.2222222222222222,
              "#7201a8"
             ],
             [
              0.3333333333333333,
              "#9c179e"
             ],
             [
              0.4444444444444444,
              "#bd3786"
             ],
             [
              0.5555555555555556,
              "#d8576b"
             ],
             [
              0.6666666666666666,
              "#ed7953"
             ],
             [
              0.7777777777777778,
              "#fb9f3a"
             ],
             [
              0.8888888888888888,
              "#fdca26"
             ],
             [
              1,
              "#f0f921"
             ]
            ],
            "type": "contour"
           }
          ],
          "contourcarpet": [
           {
            "colorbar": {
             "outlinewidth": 0,
             "ticks": ""
            },
            "type": "contourcarpet"
           }
          ],
          "heatmap": [
           {
            "colorbar": {
             "outlinewidth": 0,
             "ticks": ""
            },
            "colorscale": [
             [
              0,
              "#0d0887"
             ],
             [
              0.1111111111111111,
              "#46039f"
             ],
             [
              0.2222222222222222,
              "#7201a8"
             ],
             [
              0.3333333333333333,
              "#9c179e"
             ],
             [
              0.4444444444444444,
              "#bd3786"
             ],
             [
              0.5555555555555556,
              "#d8576b"
             ],
             [
              0.6666666666666666,
              "#ed7953"
             ],
             [
              0.7777777777777778,
              "#fb9f3a"
             ],
             [
              0.8888888888888888,
              "#fdca26"
             ],
             [
              1,
              "#f0f921"
             ]
            ],
            "type": "heatmap"
           }
          ],
          "heatmapgl": [
           {
            "colorbar": {
             "outlinewidth": 0,
             "ticks": ""
            },
            "colorscale": [
             [
              0,
              "#0d0887"
             ],
             [
              0.1111111111111111,
              "#46039f"
             ],
             [
              0.2222222222222222,
              "#7201a8"
             ],
             [
              0.3333333333333333,
              "#9c179e"
             ],
             [
              0.4444444444444444,
              "#bd3786"
             ],
             [
              0.5555555555555556,
              "#d8576b"
             ],
             [
              0.6666666666666666,
              "#ed7953"
             ],
             [
              0.7777777777777778,
              "#fb9f3a"
             ],
             [
              0.8888888888888888,
              "#fdca26"
             ],
             [
              1,
              "#f0f921"
             ]
            ],
            "type": "heatmapgl"
           }
          ],
          "histogram": [
           {
            "marker": {
             "pattern": {
              "fillmode": "overlay",
              "size": 10,
              "solidity": 0.2
             }
            },
            "type": "histogram"
           }
          ],
          "histogram2d": [
           {
            "colorbar": {
             "outlinewidth": 0,
             "ticks": ""
            },
            "colorscale": [
             [
              0,
              "#0d0887"
             ],
             [
              0.1111111111111111,
              "#46039f"
             ],
             [
              0.2222222222222222,
              "#7201a8"
             ],
             [
              0.3333333333333333,
              "#9c179e"
             ],
             [
              0.4444444444444444,
              "#bd3786"
             ],
             [
              0.5555555555555556,
              "#d8576b"
             ],
             [
              0.6666666666666666,
              "#ed7953"
             ],
             [
              0.7777777777777778,
              "#fb9f3a"
             ],
             [
              0.8888888888888888,
              "#fdca26"
             ],
             [
              1,
              "#f0f921"
             ]
            ],
            "type": "histogram2d"
           }
          ],
          "histogram2dcontour": [
           {
            "colorbar": {
             "outlinewidth": 0,
             "ticks": ""
            },
            "colorscale": [
             [
              0,
              "#0d0887"
             ],
             [
              0.1111111111111111,
              "#46039f"
             ],
             [
              0.2222222222222222,
              "#7201a8"
             ],
             [
              0.3333333333333333,
              "#9c179e"
             ],
             [
              0.4444444444444444,
              "#bd3786"
             ],
             [
              0.5555555555555556,
              "#d8576b"
             ],
             [
              0.6666666666666666,
              "#ed7953"
             ],
             [
              0.7777777777777778,
              "#fb9f3a"
             ],
             [
              0.8888888888888888,
              "#fdca26"
             ],
             [
              1,
              "#f0f921"
             ]
            ],
            "type": "histogram2dcontour"
           }
          ],
          "mesh3d": [
           {
            "colorbar": {
             "outlinewidth": 0,
             "ticks": ""
            },
            "type": "mesh3d"
           }
          ],
          "parcoords": [
           {
            "line": {
             "colorbar": {
              "outlinewidth": 0,
              "ticks": ""
             }
            },
            "type": "parcoords"
           }
          ],
          "pie": [
           {
            "automargin": true,
            "type": "pie"
           }
          ],
          "scatter": [
           {
            "fillpattern": {
             "fillmode": "overlay",
             "size": 10,
             "solidity": 0.2
            },
            "type": "scatter"
           }
          ],
          "scatter3d": [
           {
            "line": {
             "colorbar": {
              "outlinewidth": 0,
              "ticks": ""
             }
            },
            "marker": {
             "colorbar": {
              "outlinewidth": 0,
              "ticks": ""
             }
            },
            "type": "scatter3d"
           }
          ],
          "scattercarpet": [
           {
            "marker": {
             "colorbar": {
              "outlinewidth": 0,
              "ticks": ""
             }
            },
            "type": "scattercarpet"
           }
          ],
          "scattergeo": [
           {
            "marker": {
             "colorbar": {
              "outlinewidth": 0,
              "ticks": ""
             }
            },
            "type": "scattergeo"
           }
          ],
          "scattergl": [
           {
            "marker": {
             "colorbar": {
              "outlinewidth": 0,
              "ticks": ""
             }
            },
            "type": "scattergl"
           }
          ],
          "scattermapbox": [
           {
            "marker": {
             "colorbar": {
              "outlinewidth": 0,
              "ticks": ""
             }
            },
            "type": "scattermapbox"
           }
          ],
          "scatterpolar": [
           {
            "marker": {
             "colorbar": {
              "outlinewidth": 0,
              "ticks": ""
             }
            },
            "type": "scatterpolar"
           }
          ],
          "scatterpolargl": [
           {
            "marker": {
             "colorbar": {
              "outlinewidth": 0,
              "ticks": ""
             }
            },
            "type": "scatterpolargl"
           }
          ],
          "scatterternary": [
           {
            "marker": {
             "colorbar": {
              "outlinewidth": 0,
              "ticks": ""
             }
            },
            "type": "scatterternary"
           }
          ],
          "surface": [
           {
            "colorbar": {
             "outlinewidth": 0,
             "ticks": ""
            },
            "colorscale": [
             [
              0,
              "#0d0887"
             ],
             [
              0.1111111111111111,
              "#46039f"
             ],
             [
              0.2222222222222222,
              "#7201a8"
             ],
             [
              0.3333333333333333,
              "#9c179e"
             ],
             [
              0.4444444444444444,
              "#bd3786"
             ],
             [
              0.5555555555555556,
              "#d8576b"
             ],
             [
              0.6666666666666666,
              "#ed7953"
             ],
             [
              0.7777777777777778,
              "#fb9f3a"
             ],
             [
              0.8888888888888888,
              "#fdca26"
             ],
             [
              1,
              "#f0f921"
             ]
            ],
            "type": "surface"
           }
          ],
          "table": [
           {
            "cells": {
             "fill": {
              "color": "#EBF0F8"
             },
             "line": {
              "color": "white"
             }
            },
            "header": {
             "fill": {
              "color": "#C8D4E3"
             },
             "line": {
              "color": "white"
             }
            },
            "type": "table"
           }
          ]
         },
         "layout": {
          "annotationdefaults": {
           "arrowcolor": "#2a3f5f",
           "arrowhead": 0,
           "arrowwidth": 1
          },
          "autotypenumbers": "strict",
          "coloraxis": {
           "colorbar": {
            "outlinewidth": 0,
            "ticks": ""
           }
          },
          "colorscale": {
           "diverging": [
            [
             0,
             "#8e0152"
            ],
            [
             0.1,
             "#c51b7d"
            ],
            [
             0.2,
             "#de77ae"
            ],
            [
             0.3,
             "#f1b6da"
            ],
            [
             0.4,
             "#fde0ef"
            ],
            [
             0.5,
             "#f7f7f7"
            ],
            [
             0.6,
             "#e6f5d0"
            ],
            [
             0.7,
             "#b8e186"
            ],
            [
             0.8,
             "#7fbc41"
            ],
            [
             0.9,
             "#4d9221"
            ],
            [
             1,
             "#276419"
            ]
           ],
           "sequential": [
            [
             0,
             "#0d0887"
            ],
            [
             0.1111111111111111,
             "#46039f"
            ],
            [
             0.2222222222222222,
             "#7201a8"
            ],
            [
             0.3333333333333333,
             "#9c179e"
            ],
            [
             0.4444444444444444,
             "#bd3786"
            ],
            [
             0.5555555555555556,
             "#d8576b"
            ],
            [
             0.6666666666666666,
             "#ed7953"
            ],
            [
             0.7777777777777778,
             "#fb9f3a"
            ],
            [
             0.8888888888888888,
             "#fdca26"
            ],
            [
             1,
             "#f0f921"
            ]
           ],
           "sequentialminus": [
            [
             0,
             "#0d0887"
            ],
            [
             0.1111111111111111,
             "#46039f"
            ],
            [
             0.2222222222222222,
             "#7201a8"
            ],
            [
             0.3333333333333333,
             "#9c179e"
            ],
            [
             0.4444444444444444,
             "#bd3786"
            ],
            [
             0.5555555555555556,
             "#d8576b"
            ],
            [
             0.6666666666666666,
             "#ed7953"
            ],
            [
             0.7777777777777778,
             "#fb9f3a"
            ],
            [
             0.8888888888888888,
             "#fdca26"
            ],
            [
             1,
             "#f0f921"
            ]
           ]
          },
          "colorway": [
           "#636efa",
           "#EF553B",
           "#00cc96",
           "#ab63fa",
           "#FFA15A",
           "#19d3f3",
           "#FF6692",
           "#B6E880",
           "#FF97FF",
           "#FECB52"
          ],
          "font": {
           "color": "#2a3f5f"
          },
          "geo": {
           "bgcolor": "white",
           "lakecolor": "white",
           "landcolor": "#E5ECF6",
           "showlakes": true,
           "showland": true,
           "subunitcolor": "white"
          },
          "hoverlabel": {
           "align": "left"
          },
          "hovermode": "closest",
          "mapbox": {
           "style": "light"
          },
          "paper_bgcolor": "white",
          "plot_bgcolor": "#E5ECF6",
          "polar": {
           "angularaxis": {
            "gridcolor": "white",
            "linecolor": "white",
            "ticks": ""
           },
           "bgcolor": "#E5ECF6",
           "radialaxis": {
            "gridcolor": "white",
            "linecolor": "white",
            "ticks": ""
           }
          },
          "scene": {
           "xaxis": {
            "backgroundcolor": "#E5ECF6",
            "gridcolor": "white",
            "gridwidth": 2,
            "linecolor": "white",
            "showbackground": true,
            "ticks": "",
            "zerolinecolor": "white"
           },
           "yaxis": {
            "backgroundcolor": "#E5ECF6",
            "gridcolor": "white",
            "gridwidth": 2,
            "linecolor": "white",
            "showbackground": true,
            "ticks": "",
            "zerolinecolor": "white"
           },
           "zaxis": {
            "backgroundcolor": "#E5ECF6",
            "gridcolor": "white",
            "gridwidth": 2,
            "linecolor": "white",
            "showbackground": true,
            "ticks": "",
            "zerolinecolor": "white"
           }
          },
          "shapedefaults": {
           "line": {
            "color": "#2a3f5f"
           }
          },
          "ternary": {
           "aaxis": {
            "gridcolor": "white",
            "linecolor": "white",
            "ticks": ""
           },
           "baxis": {
            "gridcolor": "white",
            "linecolor": "white",
            "ticks": ""
           },
           "bgcolor": "#E5ECF6",
           "caxis": {
            "gridcolor": "white",
            "linecolor": "white",
            "ticks": ""
           }
          },
          "title": {
           "x": 0.05
          },
          "xaxis": {
           "automargin": true,
           "gridcolor": "white",
           "linecolor": "white",
           "ticks": "",
           "title": {
            "standoff": 15
           },
           "zerolinecolor": "white",
           "zerolinewidth": 2
          },
          "yaxis": {
           "automargin": true,
           "gridcolor": "white",
           "linecolor": "white",
           "ticks": "",
           "title": {
            "standoff": 15
           },
           "zerolinecolor": "white",
           "zerolinewidth": 2
          }
         }
        },
        "title": {
         "text": "???"
        },
        "xaxis": {
         "title": {
          "text": "Type"
         }
        },
        "yaxis": {
         "title": {
          "text": "Number of Pokemon"
         }
        }
       }
      },
      "text/html": [
       "<div>                            <div id=\"b84ab3a0-5f3e-46d8-9b2e-c245c3e3dee3\" class=\"plotly-graph-div\" style=\"height:525px; width:100%;\"></div>            <script type=\"text/javascript\">                require([\"plotly\"], function(Plotly) {                    window.PLOTLYENV=window.PLOTLYENV || {};                                    if (document.getElementById(\"b84ab3a0-5f3e-46d8-9b2e-c245c3e3dee3\")) {                    Plotly.newPlot(                        \"b84ab3a0-5f3e-46d8-9b2e-c245c3e3dee3\",                        [{\"marker\":{\"color\":[\"#A6B91A\",\"#705746\",\"#6F35FC\",\"#F7D02C\",\"#D685AD\",\"#C22E28\",\"#EE8130\",\"#A98FF3\",\"#735797\",\"#7AC74C\",\"#E2BF65\",\"#96D9D6\",\"#A8A77A\",\"#A33EA1\",\"#F95587\",\"#B6A136\",\"#B7B7CE\",\"#6390F0\"]},\"name\":\"['bug', 'dark', 'dragon', 'electric', 'fairy', 'fighting', 'fire', 'flying', 'ghost', 'grass', 'ground', 'ice', 'normal', 'poison', 'psychic', 'rock', 'steel', 'water']\",\"x\":[\"bug\",\"dark\",\"dragon\",\"electric\",\"fairy\",\"fighting\",\"fire\",\"flying\",\"ghost\",\"grass\",\"ground\",\"ice\",\"normal\",\"poison\",\"psychic\",\"rock\",\"steel\",\"water\"],\"y\":[72,29,27,39,18,28,52,3,27,78,32,23,105,32,53,45,24,114],\"type\":\"bar\"}],                        {\"template\":{\"data\":{\"barpolar\":[{\"marker\":{\"line\":{\"color\":\"#E5ECF6\",\"width\":0.5},\"pattern\":{\"fillmode\":\"overlay\",\"size\":10,\"solidity\":0.2}},\"type\":\"barpolar\"}],\"bar\":[{\"error_x\":{\"color\":\"#2a3f5f\"},\"error_y\":{\"color\":\"#2a3f5f\"},\"marker\":{\"line\":{\"color\":\"#E5ECF6\",\"width\":0.5},\"pattern\":{\"fillmode\":\"overlay\",\"size\":10,\"solidity\":0.2}},\"type\":\"bar\"}],\"carpet\":[{\"aaxis\":{\"endlinecolor\":\"#2a3f5f\",\"gridcolor\":\"white\",\"linecolor\":\"white\",\"minorgridcolor\":\"white\",\"startlinecolor\":\"#2a3f5f\"},\"baxis\":{\"endlinecolor\":\"#2a3f5f\",\"gridcolor\":\"white\",\"linecolor\":\"white\",\"minorgridcolor\":\"white\",\"startlinecolor\":\"#2a3f5f\"},\"type\":\"carpet\"}],\"choropleth\":[{\"colorbar\":{\"outlinewidth\":0,\"ticks\":\"\"},\"type\":\"choropleth\"}],\"contourcarpet\":[{\"colorbar\":{\"outlinewidth\":0,\"ticks\":\"\"},\"type\":\"contourcarpet\"}],\"contour\":[{\"colorbar\":{\"outlinewidth\":0,\"ticks\":\"\"},\"colorscale\":[[0.0,\"#0d0887\"],[0.1111111111111111,\"#46039f\"],[0.2222222222222222,\"#7201a8\"],[0.3333333333333333,\"#9c179e\"],[0.4444444444444444,\"#bd3786\"],[0.5555555555555556,\"#d8576b\"],[0.6666666666666666,\"#ed7953\"],[0.7777777777777778,\"#fb9f3a\"],[0.8888888888888888,\"#fdca26\"],[1.0,\"#f0f921\"]],\"type\":\"contour\"}],\"heatmapgl\":[{\"colorbar\":{\"outlinewidth\":0,\"ticks\":\"\"},\"colorscale\":[[0.0,\"#0d0887\"],[0.1111111111111111,\"#46039f\"],[0.2222222222222222,\"#7201a8\"],[0.3333333333333333,\"#9c179e\"],[0.4444444444444444,\"#bd3786\"],[0.5555555555555556,\"#d8576b\"],[0.6666666666666666,\"#ed7953\"],[0.7777777777777778,\"#fb9f3a\"],[0.8888888888888888,\"#fdca26\"],[1.0,\"#f0f921\"]],\"type\":\"heatmapgl\"}],\"heatmap\":[{\"colorbar\":{\"outlinewidth\":0,\"ticks\":\"\"},\"colorscale\":[[0.0,\"#0d0887\"],[0.1111111111111111,\"#46039f\"],[0.2222222222222222,\"#7201a8\"],[0.3333333333333333,\"#9c179e\"],[0.4444444444444444,\"#bd3786\"],[0.5555555555555556,\"#d8576b\"],[0.6666666666666666,\"#ed7953\"],[0.7777777777777778,\"#fb9f3a\"],[0.8888888888888888,\"#fdca26\"],[1.0,\"#f0f921\"]],\"type\":\"heatmap\"}],\"histogram2dcontour\":[{\"colorbar\":{\"outlinewidth\":0,\"ticks\":\"\"},\"colorscale\":[[0.0,\"#0d0887\"],[0.1111111111111111,\"#46039f\"],[0.2222222222222222,\"#7201a8\"],[0.3333333333333333,\"#9c179e\"],[0.4444444444444444,\"#bd3786\"],[0.5555555555555556,\"#d8576b\"],[0.6666666666666666,\"#ed7953\"],[0.7777777777777778,\"#fb9f3a\"],[0.8888888888888888,\"#fdca26\"],[1.0,\"#f0f921\"]],\"type\":\"histogram2dcontour\"}],\"histogram2d\":[{\"colorbar\":{\"outlinewidth\":0,\"ticks\":\"\"},\"colorscale\":[[0.0,\"#0d0887\"],[0.1111111111111111,\"#46039f\"],[0.2222222222222222,\"#7201a8\"],[0.3333333333333333,\"#9c179e\"],[0.4444444444444444,\"#bd3786\"],[0.5555555555555556,\"#d8576b\"],[0.6666666666666666,\"#ed7953\"],[0.7777777777777778,\"#fb9f3a\"],[0.8888888888888888,\"#fdca26\"],[1.0,\"#f0f921\"]],\"type\":\"histogram2d\"}],\"histogram\":[{\"marker\":{\"pattern\":{\"fillmode\":\"overlay\",\"size\":10,\"solidity\":0.2}},\"type\":\"histogram\"}],\"mesh3d\":[{\"colorbar\":{\"outlinewidth\":0,\"ticks\":\"\"},\"type\":\"mesh3d\"}],\"parcoords\":[{\"line\":{\"colorbar\":{\"outlinewidth\":0,\"ticks\":\"\"}},\"type\":\"parcoords\"}],\"pie\":[{\"automargin\":true,\"type\":\"pie\"}],\"scatter3d\":[{\"line\":{\"colorbar\":{\"outlinewidth\":0,\"ticks\":\"\"}},\"marker\":{\"colorbar\":{\"outlinewidth\":0,\"ticks\":\"\"}},\"type\":\"scatter3d\"}],\"scattercarpet\":[{\"marker\":{\"colorbar\":{\"outlinewidth\":0,\"ticks\":\"\"}},\"type\":\"scattercarpet\"}],\"scattergeo\":[{\"marker\":{\"colorbar\":{\"outlinewidth\":0,\"ticks\":\"\"}},\"type\":\"scattergeo\"}],\"scattergl\":[{\"marker\":{\"colorbar\":{\"outlinewidth\":0,\"ticks\":\"\"}},\"type\":\"scattergl\"}],\"scattermapbox\":[{\"marker\":{\"colorbar\":{\"outlinewidth\":0,\"ticks\":\"\"}},\"type\":\"scattermapbox\"}],\"scatterpolargl\":[{\"marker\":{\"colorbar\":{\"outlinewidth\":0,\"ticks\":\"\"}},\"type\":\"scatterpolargl\"}],\"scatterpolar\":[{\"marker\":{\"colorbar\":{\"outlinewidth\":0,\"ticks\":\"\"}},\"type\":\"scatterpolar\"}],\"scatter\":[{\"fillpattern\":{\"fillmode\":\"overlay\",\"size\":10,\"solidity\":0.2},\"type\":\"scatter\"}],\"scatterternary\":[{\"marker\":{\"colorbar\":{\"outlinewidth\":0,\"ticks\":\"\"}},\"type\":\"scatterternary\"}],\"surface\":[{\"colorbar\":{\"outlinewidth\":0,\"ticks\":\"\"},\"colorscale\":[[0.0,\"#0d0887\"],[0.1111111111111111,\"#46039f\"],[0.2222222222222222,\"#7201a8\"],[0.3333333333333333,\"#9c179e\"],[0.4444444444444444,\"#bd3786\"],[0.5555555555555556,\"#d8576b\"],[0.6666666666666666,\"#ed7953\"],[0.7777777777777778,\"#fb9f3a\"],[0.8888888888888888,\"#fdca26\"],[1.0,\"#f0f921\"]],\"type\":\"surface\"}],\"table\":[{\"cells\":{\"fill\":{\"color\":\"#EBF0F8\"},\"line\":{\"color\":\"white\"}},\"header\":{\"fill\":{\"color\":\"#C8D4E3\"},\"line\":{\"color\":\"white\"}},\"type\":\"table\"}]},\"layout\":{\"annotationdefaults\":{\"arrowcolor\":\"#2a3f5f\",\"arrowhead\":0,\"arrowwidth\":1},\"autotypenumbers\":\"strict\",\"coloraxis\":{\"colorbar\":{\"outlinewidth\":0,\"ticks\":\"\"}},\"colorscale\":{\"diverging\":[[0,\"#8e0152\"],[0.1,\"#c51b7d\"],[0.2,\"#de77ae\"],[0.3,\"#f1b6da\"],[0.4,\"#fde0ef\"],[0.5,\"#f7f7f7\"],[0.6,\"#e6f5d0\"],[0.7,\"#b8e186\"],[0.8,\"#7fbc41\"],[0.9,\"#4d9221\"],[1,\"#276419\"]],\"sequential\":[[0.0,\"#0d0887\"],[0.1111111111111111,\"#46039f\"],[0.2222222222222222,\"#7201a8\"],[0.3333333333333333,\"#9c179e\"],[0.4444444444444444,\"#bd3786\"],[0.5555555555555556,\"#d8576b\"],[0.6666666666666666,\"#ed7953\"],[0.7777777777777778,\"#fb9f3a\"],[0.8888888888888888,\"#fdca26\"],[1.0,\"#f0f921\"]],\"sequentialminus\":[[0.0,\"#0d0887\"],[0.1111111111111111,\"#46039f\"],[0.2222222222222222,\"#7201a8\"],[0.3333333333333333,\"#9c179e\"],[0.4444444444444444,\"#bd3786\"],[0.5555555555555556,\"#d8576b\"],[0.6666666666666666,\"#ed7953\"],[0.7777777777777778,\"#fb9f3a\"],[0.8888888888888888,\"#fdca26\"],[1.0,\"#f0f921\"]]},\"colorway\":[\"#636efa\",\"#EF553B\",\"#00cc96\",\"#ab63fa\",\"#FFA15A\",\"#19d3f3\",\"#FF6692\",\"#B6E880\",\"#FF97FF\",\"#FECB52\"],\"font\":{\"color\":\"#2a3f5f\"},\"geo\":{\"bgcolor\":\"white\",\"lakecolor\":\"white\",\"landcolor\":\"#E5ECF6\",\"showlakes\":true,\"showland\":true,\"subunitcolor\":\"white\"},\"hoverlabel\":{\"align\":\"left\"},\"hovermode\":\"closest\",\"mapbox\":{\"style\":\"light\"},\"paper_bgcolor\":\"white\",\"plot_bgcolor\":\"#E5ECF6\",\"polar\":{\"angularaxis\":{\"gridcolor\":\"white\",\"linecolor\":\"white\",\"ticks\":\"\"},\"bgcolor\":\"#E5ECF6\",\"radialaxis\":{\"gridcolor\":\"white\",\"linecolor\":\"white\",\"ticks\":\"\"}},\"scene\":{\"xaxis\":{\"backgroundcolor\":\"#E5ECF6\",\"gridcolor\":\"white\",\"gridwidth\":2,\"linecolor\":\"white\",\"showbackground\":true,\"ticks\":\"\",\"zerolinecolor\":\"white\"},\"yaxis\":{\"backgroundcolor\":\"#E5ECF6\",\"gridcolor\":\"white\",\"gridwidth\":2,\"linecolor\":\"white\",\"showbackground\":true,\"ticks\":\"\",\"zerolinecolor\":\"white\"},\"zaxis\":{\"backgroundcolor\":\"#E5ECF6\",\"gridcolor\":\"white\",\"gridwidth\":2,\"linecolor\":\"white\",\"showbackground\":true,\"ticks\":\"\",\"zerolinecolor\":\"white\"}},\"shapedefaults\":{\"line\":{\"color\":\"#2a3f5f\"}},\"ternary\":{\"aaxis\":{\"gridcolor\":\"white\",\"linecolor\":\"white\",\"ticks\":\"\"},\"baxis\":{\"gridcolor\":\"white\",\"linecolor\":\"white\",\"ticks\":\"\"},\"bgcolor\":\"#E5ECF6\",\"caxis\":{\"gridcolor\":\"white\",\"linecolor\":\"white\",\"ticks\":\"\"}},\"title\":{\"x\":0.05},\"xaxis\":{\"automargin\":true,\"gridcolor\":\"white\",\"linecolor\":\"white\",\"ticks\":\"\",\"title\":{\"standoff\":15},\"zerolinecolor\":\"white\",\"zerolinewidth\":2},\"yaxis\":{\"automargin\":true,\"gridcolor\":\"white\",\"linecolor\":\"white\",\"ticks\":\"\",\"title\":{\"standoff\":15},\"zerolinecolor\":\"white\",\"zerolinewidth\":2}}},\"title\":{\"text\":\"???\"},\"xaxis\":{\"title\":{\"text\":\"Type\"}},\"yaxis\":{\"title\":{\"text\":\"Number of Pokemon\"}}},                        {\"responsive\": true}                    ).then(function(){\n",
       "                            \n",
       "var gd = document.getElementById('b84ab3a0-5f3e-46d8-9b2e-c245c3e3dee3');\n",
       "var x = new MutationObserver(function (mutations, observer) {{\n",
       "        var display = window.getComputedStyle(gd).display;\n",
       "        if (!display || display === 'none') {{\n",
       "            console.log([gd, 'removed!']);\n",
       "            Plotly.purge(gd);\n",
       "            observer.disconnect();\n",
       "        }}\n",
       "}});\n",
       "\n",
       "// Listen for the removal of the full notebook cells\n",
       "var notebookContainer = gd.closest('#notebook-container');\n",
       "if (notebookContainer) {{\n",
       "    x.observe(notebookContainer, {childList: true});\n",
       "}}\n",
       "\n",
       "// Listen for the clearing of the current output cell\n",
       "var outputEl = gd.closest('.output');\n",
       "if (outputEl) {{\n",
       "    x.observe(outputEl, {childList: true});\n",
       "}}\n",
       "\n",
       "                        })                };                });            </script>        </div>"
      ]
     },
     "metadata": {},
     "output_type": "display_data"
    }
   ],
   "source": [
    "# Visualizing number of pokemon per type across all generation.\n",
    "types = (pokemon.groupby(['type1'])['pokedex_number'].count())\n",
    "types_name = list(types.keys())\n",
    "\n",
    "data = go.Bar(\n",
    "    x=types_name,\n",
    "    y=types.values,\n",
    "    marker=dict(\n",
    "        color=list(colors.values())\n",
    "    ),\n",
    "    name=\"{}\".format(types_name)\n",
    ")\n",
    "\n",
    "layout = go.Layout(\n",
    "    title='Types',\n",
    "    xaxis=dict(\n",
    "        title='Type'\n",
    "    ),\n",
    "    yaxis=dict(\n",
    "        title='Number of Pokemon'\n",
    "    )\n",
    ")\n",
    "\n",
    "fig = go.Figure(data=[data], layout=layout)\n",
    "\n",
    "# TODO: How can we upper case the types?\n",
    "# TODO: Can we add an overall chart title?\n",
    "# TODO: Can we center it? (, title_x=?)\n",
    "# fig.update_layout(title_text='???')\n",
    "\n",
    "iplot(fig, filename='Types')\n"
   ]
  },
  {
   "cell_type": "code",
   "execution_count": 86,
   "metadata": {},
   "outputs": [
    {
     "data": {
      "application/vnd.plotly.v1+json": {
       "config": {
        "linkText": "Export to plot.ly",
        "plotlyServerURL": "https://plot.ly",
        "showLink": false
       },
       "data": [
        {
         "line": {
          "width": 3
         },
         "name": "hp",
         "type": "scatter",
         "x": [
          "bug",
          "dark",
          "dragon",
          "electric",
          "fairy",
          "fighting",
          "fire",
          "flying",
          "ghost",
          "grass",
          "ground",
          "ice",
          "normal",
          "poison",
          "psychic",
          "rock",
          "steel",
          "water"
         ],
         "y": [
          56.72222222222222,
          72.55172413793103,
          79.85185185185185,
          60.51282051282051,
          73.94444444444444,
          71.42857142857143,
          68.73076923076923,
          68,
          63.370370370370374,
          65.35897435897436,
          73.1875,
          72.08695652173913,
          76.72380952380952,
          65.59375,
          72.94339622641509,
          66.33333333333333,
          66.79166666666667,
          70.21929824561404
         ]
        },
        {
         "line": {
          "width": 3
         },
         "name": "attack",
         "type": "scatter",
         "x": [
          "bug",
          "dark",
          "dragon",
          "electric",
          "fairy",
          "fighting",
          "fire",
          "flying",
          "ghost",
          "grass",
          "ground",
          "ice",
          "normal",
          "poison",
          "psychic",
          "rock",
          "steel",
          "water"
         ],
         "y": [
          70.125,
          87.79310344827586,
          106.4074074074074,
          70.82051282051282,
          62.111111111111114,
          99.17857142857143,
          81.5,
          66.66666666666667,
          72.74074074074075,
          73.76923076923077,
          94.8125,
          73.30434782608695,
          75.16190476190476,
          72.65625,
          65.56603773584905,
          90.66666666666667,
          93.08333333333333,
          73.30701754385964
         ]
        },
        {
         "line": {
          "width": 3
         },
         "name": "defense",
         "type": "scatter",
         "x": [
          "bug",
          "dark",
          "dragon",
          "electric",
          "fairy",
          "fighting",
          "fire",
          "flying",
          "ghost",
          "grass",
          "ground",
          "ice",
          "normal",
          "poison",
          "psychic",
          "rock",
          "steel",
          "water"
         ],
         "y": [
          70.84722222222223,
          70.51724137931035,
          86.25925925925925,
          61.82051282051282,
          68.16666666666667,
          66.39285714285714,
          67.78846153846153,
          65,
          79.51851851851852,
          70.87179487179488,
          83.90625,
          71.91304347826087,
          59.695238095238096,
          70.03125,
          69.26415094339623,
          96.26666666666667,
          120.20833333333333,
          73.48245614035088
         ]
        },
        {
         "line": {
          "width": 3
         },
         "name": "sp_attack",
         "type": "scatter",
         "x": [
          "bug",
          "dark",
          "dragon",
          "electric",
          "fairy",
          "fighting",
          "fire",
          "flying",
          "ghost",
          "grass",
          "ground",
          "ice",
          "normal",
          "poison",
          "psychic",
          "rock",
          "steel",
          "water"
         ],
         "y": [
          56.65277777777778,
          74.51724137931035,
          89.5925925925926,
          87.53846153846153,
          81.5,
          50.107142857142854,
          87.73076923076923,
          84,
          82.44444444444444,
          74.32051282051282,
          51.9375,
          77.43478260869566,
          56.98095238095238,
          61.5625,
          92.60377358490567,
          63.2,
          72.70833333333333,
          74.06140350877193
         ]
        },
        {
         "line": {
          "width": 3
         },
         "name": "sp_defense",
         "type": "scatter",
         "x": [
          "bug",
          "dark",
          "dragon",
          "electric",
          "fairy",
          "fighting",
          "fire",
          "flying",
          "ghost",
          "grass",
          "ground",
          "ice",
          "normal",
          "poison",
          "psychic",
          "rock",
          "steel",
          "water"
         ],
         "y": [
          62.513888888888886,
          69.06896551724138,
          84.55555555555556,
          70.05128205128206,
          87.77777777777777,
          63.42857142857143,
          71.53846153846153,
          70,
          78.29629629629629,
          69.23076923076923,
          62.28125,
          76.1304347826087,
          63.2,
          65.53125,
          85.73584905660377,
          73.37777777777778,
          82.20833333333333,
          71.79824561403508
         ]
        },
        {
         "line": {
          "width": 3
         },
         "name": "speed",
         "type": "scatter",
         "x": [
          "bug",
          "dark",
          "dragon",
          "electric",
          "fairy",
          "fighting",
          "fire",
          "flying",
          "ghost",
          "grass",
          "ground",
          "ice",
          "normal",
          "poison",
          "psychic",
          "rock",
          "steel",
          "water"
         ],
         "y": [
          63.56944444444444,
          75.3103448275862,
          76.11111111111111,
          85.41025641025641,
          53.666666666666664,
          64.28571428571429,
          73.34615384615384,
          99.66666666666667,
          58.333333333333336,
          59.02564102564103,
          59.96875,
          62.73913043478261,
          69.53333333333333,
          64.1875,
          75.15094339622641,
          57.422222222222224,
          56.583333333333336,
          63.921052631578945
         ]
        }
       ],
       "layout": {
        "template": {
         "data": {
          "bar": [
           {
            "error_x": {
             "color": "#2a3f5f"
            },
            "error_y": {
             "color": "#2a3f5f"
            },
            "marker": {
             "line": {
              "color": "#E5ECF6",
              "width": 0.5
             },
             "pattern": {
              "fillmode": "overlay",
              "size": 10,
              "solidity": 0.2
             }
            },
            "type": "bar"
           }
          ],
          "barpolar": [
           {
            "marker": {
             "line": {
              "color": "#E5ECF6",
              "width": 0.5
             },
             "pattern": {
              "fillmode": "overlay",
              "size": 10,
              "solidity": 0.2
             }
            },
            "type": "barpolar"
           }
          ],
          "carpet": [
           {
            "aaxis": {
             "endlinecolor": "#2a3f5f",
             "gridcolor": "white",
             "linecolor": "white",
             "minorgridcolor": "white",
             "startlinecolor": "#2a3f5f"
            },
            "baxis": {
             "endlinecolor": "#2a3f5f",
             "gridcolor": "white",
             "linecolor": "white",
             "minorgridcolor": "white",
             "startlinecolor": "#2a3f5f"
            },
            "type": "carpet"
           }
          ],
          "choropleth": [
           {
            "colorbar": {
             "outlinewidth": 0,
             "ticks": ""
            },
            "type": "choropleth"
           }
          ],
          "contour": [
           {
            "colorbar": {
             "outlinewidth": 0,
             "ticks": ""
            },
            "colorscale": [
             [
              0,
              "#0d0887"
             ],
             [
              0.1111111111111111,
              "#46039f"
             ],
             [
              0.2222222222222222,
              "#7201a8"
             ],
             [
              0.3333333333333333,
              "#9c179e"
             ],
             [
              0.4444444444444444,
              "#bd3786"
             ],
             [
              0.5555555555555556,
              "#d8576b"
             ],
             [
              0.6666666666666666,
              "#ed7953"
             ],
             [
              0.7777777777777778,
              "#fb9f3a"
             ],
             [
              0.8888888888888888,
              "#fdca26"
             ],
             [
              1,
              "#f0f921"
             ]
            ],
            "type": "contour"
           }
          ],
          "contourcarpet": [
           {
            "colorbar": {
             "outlinewidth": 0,
             "ticks": ""
            },
            "type": "contourcarpet"
           }
          ],
          "heatmap": [
           {
            "colorbar": {
             "outlinewidth": 0,
             "ticks": ""
            },
            "colorscale": [
             [
              0,
              "#0d0887"
             ],
             [
              0.1111111111111111,
              "#46039f"
             ],
             [
              0.2222222222222222,
              "#7201a8"
             ],
             [
              0.3333333333333333,
              "#9c179e"
             ],
             [
              0.4444444444444444,
              "#bd3786"
             ],
             [
              0.5555555555555556,
              "#d8576b"
             ],
             [
              0.6666666666666666,
              "#ed7953"
             ],
             [
              0.7777777777777778,
              "#fb9f3a"
             ],
             [
              0.8888888888888888,
              "#fdca26"
             ],
             [
              1,
              "#f0f921"
             ]
            ],
            "type": "heatmap"
           }
          ],
          "heatmapgl": [
           {
            "colorbar": {
             "outlinewidth": 0,
             "ticks": ""
            },
            "colorscale": [
             [
              0,
              "#0d0887"
             ],
             [
              0.1111111111111111,
              "#46039f"
             ],
             [
              0.2222222222222222,
              "#7201a8"
             ],
             [
              0.3333333333333333,
              "#9c179e"
             ],
             [
              0.4444444444444444,
              "#bd3786"
             ],
             [
              0.5555555555555556,
              "#d8576b"
             ],
             [
              0.6666666666666666,
              "#ed7953"
             ],
             [
              0.7777777777777778,
              "#fb9f3a"
             ],
             [
              0.8888888888888888,
              "#fdca26"
             ],
             [
              1,
              "#f0f921"
             ]
            ],
            "type": "heatmapgl"
           }
          ],
          "histogram": [
           {
            "marker": {
             "pattern": {
              "fillmode": "overlay",
              "size": 10,
              "solidity": 0.2
             }
            },
            "type": "histogram"
           }
          ],
          "histogram2d": [
           {
            "colorbar": {
             "outlinewidth": 0,
             "ticks": ""
            },
            "colorscale": [
             [
              0,
              "#0d0887"
             ],
             [
              0.1111111111111111,
              "#46039f"
             ],
             [
              0.2222222222222222,
              "#7201a8"
             ],
             [
              0.3333333333333333,
              "#9c179e"
             ],
             [
              0.4444444444444444,
              "#bd3786"
             ],
             [
              0.5555555555555556,
              "#d8576b"
             ],
             [
              0.6666666666666666,
              "#ed7953"
             ],
             [
              0.7777777777777778,
              "#fb9f3a"
             ],
             [
              0.8888888888888888,
              "#fdca26"
             ],
             [
              1,
              "#f0f921"
             ]
            ],
            "type": "histogram2d"
           }
          ],
          "histogram2dcontour": [
           {
            "colorbar": {
             "outlinewidth": 0,
             "ticks": ""
            },
            "colorscale": [
             [
              0,
              "#0d0887"
             ],
             [
              0.1111111111111111,
              "#46039f"
             ],
             [
              0.2222222222222222,
              "#7201a8"
             ],
             [
              0.3333333333333333,
              "#9c179e"
             ],
             [
              0.4444444444444444,
              "#bd3786"
             ],
             [
              0.5555555555555556,
              "#d8576b"
             ],
             [
              0.6666666666666666,
              "#ed7953"
             ],
             [
              0.7777777777777778,
              "#fb9f3a"
             ],
             [
              0.8888888888888888,
              "#fdca26"
             ],
             [
              1,
              "#f0f921"
             ]
            ],
            "type": "histogram2dcontour"
           }
          ],
          "mesh3d": [
           {
            "colorbar": {
             "outlinewidth": 0,
             "ticks": ""
            },
            "type": "mesh3d"
           }
          ],
          "parcoords": [
           {
            "line": {
             "colorbar": {
              "outlinewidth": 0,
              "ticks": ""
             }
            },
            "type": "parcoords"
           }
          ],
          "pie": [
           {
            "automargin": true,
            "type": "pie"
           }
          ],
          "scatter": [
           {
            "fillpattern": {
             "fillmode": "overlay",
             "size": 10,
             "solidity": 0.2
            },
            "type": "scatter"
           }
          ],
          "scatter3d": [
           {
            "line": {
             "colorbar": {
              "outlinewidth": 0,
              "ticks": ""
             }
            },
            "marker": {
             "colorbar": {
              "outlinewidth": 0,
              "ticks": ""
             }
            },
            "type": "scatter3d"
           }
          ],
          "scattercarpet": [
           {
            "marker": {
             "colorbar": {
              "outlinewidth": 0,
              "ticks": ""
             }
            },
            "type": "scattercarpet"
           }
          ],
          "scattergeo": [
           {
            "marker": {
             "colorbar": {
              "outlinewidth": 0,
              "ticks": ""
             }
            },
            "type": "scattergeo"
           }
          ],
          "scattergl": [
           {
            "marker": {
             "colorbar": {
              "outlinewidth": 0,
              "ticks": ""
             }
            },
            "type": "scattergl"
           }
          ],
          "scattermapbox": [
           {
            "marker": {
             "colorbar": {
              "outlinewidth": 0,
              "ticks": ""
             }
            },
            "type": "scattermapbox"
           }
          ],
          "scatterpolar": [
           {
            "marker": {
             "colorbar": {
              "outlinewidth": 0,
              "ticks": ""
             }
            },
            "type": "scatterpolar"
           }
          ],
          "scatterpolargl": [
           {
            "marker": {
             "colorbar": {
              "outlinewidth": 0,
              "ticks": ""
             }
            },
            "type": "scatterpolargl"
           }
          ],
          "scatterternary": [
           {
            "marker": {
             "colorbar": {
              "outlinewidth": 0,
              "ticks": ""
             }
            },
            "type": "scatterternary"
           }
          ],
          "surface": [
           {
            "colorbar": {
             "outlinewidth": 0,
             "ticks": ""
            },
            "colorscale": [
             [
              0,
              "#0d0887"
             ],
             [
              0.1111111111111111,
              "#46039f"
             ],
             [
              0.2222222222222222,
              "#7201a8"
             ],
             [
              0.3333333333333333,
              "#9c179e"
             ],
             [
              0.4444444444444444,
              "#bd3786"
             ],
             [
              0.5555555555555556,
              "#d8576b"
             ],
             [
              0.6666666666666666,
              "#ed7953"
             ],
             [
              0.7777777777777778,
              "#fb9f3a"
             ],
             [
              0.8888888888888888,
              "#fdca26"
             ],
             [
              1,
              "#f0f921"
             ]
            ],
            "type": "surface"
           }
          ],
          "table": [
           {
            "cells": {
             "fill": {
              "color": "#EBF0F8"
             },
             "line": {
              "color": "white"
             }
            },
            "header": {
             "fill": {
              "color": "#C8D4E3"
             },
             "line": {
              "color": "white"
             }
            },
            "type": "table"
           }
          ]
         },
         "layout": {
          "annotationdefaults": {
           "arrowcolor": "#2a3f5f",
           "arrowhead": 0,
           "arrowwidth": 1
          },
          "autotypenumbers": "strict",
          "coloraxis": {
           "colorbar": {
            "outlinewidth": 0,
            "ticks": ""
           }
          },
          "colorscale": {
           "diverging": [
            [
             0,
             "#8e0152"
            ],
            [
             0.1,
             "#c51b7d"
            ],
            [
             0.2,
             "#de77ae"
            ],
            [
             0.3,
             "#f1b6da"
            ],
            [
             0.4,
             "#fde0ef"
            ],
            [
             0.5,
             "#f7f7f7"
            ],
            [
             0.6,
             "#e6f5d0"
            ],
            [
             0.7,
             "#b8e186"
            ],
            [
             0.8,
             "#7fbc41"
            ],
            [
             0.9,
             "#4d9221"
            ],
            [
             1,
             "#276419"
            ]
           ],
           "sequential": [
            [
             0,
             "#0d0887"
            ],
            [
             0.1111111111111111,
             "#46039f"
            ],
            [
             0.2222222222222222,
             "#7201a8"
            ],
            [
             0.3333333333333333,
             "#9c179e"
            ],
            [
             0.4444444444444444,
             "#bd3786"
            ],
            [
             0.5555555555555556,
             "#d8576b"
            ],
            [
             0.6666666666666666,
             "#ed7953"
            ],
            [
             0.7777777777777778,
             "#fb9f3a"
            ],
            [
             0.8888888888888888,
             "#fdca26"
            ],
            [
             1,
             "#f0f921"
            ]
           ],
           "sequentialminus": [
            [
             0,
             "#0d0887"
            ],
            [
             0.1111111111111111,
             "#46039f"
            ],
            [
             0.2222222222222222,
             "#7201a8"
            ],
            [
             0.3333333333333333,
             "#9c179e"
            ],
            [
             0.4444444444444444,
             "#bd3786"
            ],
            [
             0.5555555555555556,
             "#d8576b"
            ],
            [
             0.6666666666666666,
             "#ed7953"
            ],
            [
             0.7777777777777778,
             "#fb9f3a"
            ],
            [
             0.8888888888888888,
             "#fdca26"
            ],
            [
             1,
             "#f0f921"
            ]
           ]
          },
          "colorway": [
           "#636efa",
           "#EF553B",
           "#00cc96",
           "#ab63fa",
           "#FFA15A",
           "#19d3f3",
           "#FF6692",
           "#B6E880",
           "#FF97FF",
           "#FECB52"
          ],
          "font": {
           "color": "#2a3f5f"
          },
          "geo": {
           "bgcolor": "white",
           "lakecolor": "white",
           "landcolor": "#E5ECF6",
           "showlakes": true,
           "showland": true,
           "subunitcolor": "white"
          },
          "hoverlabel": {
           "align": "left"
          },
          "hovermode": "closest",
          "mapbox": {
           "style": "light"
          },
          "paper_bgcolor": "white",
          "plot_bgcolor": "#E5ECF6",
          "polar": {
           "angularaxis": {
            "gridcolor": "white",
            "linecolor": "white",
            "ticks": ""
           },
           "bgcolor": "#E5ECF6",
           "radialaxis": {
            "gridcolor": "white",
            "linecolor": "white",
            "ticks": ""
           }
          },
          "scene": {
           "xaxis": {
            "backgroundcolor": "#E5ECF6",
            "gridcolor": "white",
            "gridwidth": 2,
            "linecolor": "white",
            "showbackground": true,
            "ticks": "",
            "zerolinecolor": "white"
           },
           "yaxis": {
            "backgroundcolor": "#E5ECF6",
            "gridcolor": "white",
            "gridwidth": 2,
            "linecolor": "white",
            "showbackground": true,
            "ticks": "",
            "zerolinecolor": "white"
           },
           "zaxis": {
            "backgroundcolor": "#E5ECF6",
            "gridcolor": "white",
            "gridwidth": 2,
            "linecolor": "white",
            "showbackground": true,
            "ticks": "",
            "zerolinecolor": "white"
           }
          },
          "shapedefaults": {
           "line": {
            "color": "#2a3f5f"
           }
          },
          "ternary": {
           "aaxis": {
            "gridcolor": "white",
            "linecolor": "white",
            "ticks": ""
           },
           "baxis": {
            "gridcolor": "white",
            "linecolor": "white",
            "ticks": ""
           },
           "bgcolor": "#E5ECF6",
           "caxis": {
            "gridcolor": "white",
            "linecolor": "white",
            "ticks": ""
           }
          },
          "title": {
           "x": 0.05
          },
          "xaxis": {
           "automargin": true,
           "gridcolor": "white",
           "linecolor": "white",
           "ticks": "",
           "title": {
            "standoff": 15
           },
           "zerolinecolor": "white",
           "zerolinewidth": 2
          },
          "yaxis": {
           "automargin": true,
           "gridcolor": "white",
           "linecolor": "white",
           "ticks": "",
           "title": {
            "standoff": 15
           },
           "zerolinecolor": "white",
           "zerolinewidth": 2
          }
         }
        },
        "title": {
         "text": "Trend of stats by type1"
        },
        "xaxis": {
         "title": {
          "text": "type1"
         }
        },
        "yaxis": {
         "title": {
          "text": "Values"
         }
        }
       }
      },
      "text/html": [
       "<div>                            <div id=\"346fb7a2-333f-41d2-871d-7741e31efc5e\" class=\"plotly-graph-div\" style=\"height:525px; width:100%;\"></div>            <script type=\"text/javascript\">                require([\"plotly\"], function(Plotly) {                    window.PLOTLYENV=window.PLOTLYENV || {};                                    if (document.getElementById(\"346fb7a2-333f-41d2-871d-7741e31efc5e\")) {                    Plotly.newPlot(                        \"346fb7a2-333f-41d2-871d-7741e31efc5e\",                        [{\"line\":{\"width\":3},\"name\":\"hp\",\"x\":[\"bug\",\"dark\",\"dragon\",\"electric\",\"fairy\",\"fighting\",\"fire\",\"flying\",\"ghost\",\"grass\",\"ground\",\"ice\",\"normal\",\"poison\",\"psychic\",\"rock\",\"steel\",\"water\"],\"y\":[56.72222222222222,72.55172413793103,79.85185185185185,60.51282051282051,73.94444444444444,71.42857142857143,68.73076923076923,68.0,63.370370370370374,65.35897435897436,73.1875,72.08695652173913,76.72380952380952,65.59375,72.94339622641509,66.33333333333333,66.79166666666667,70.21929824561404],\"type\":\"scatter\"},{\"line\":{\"width\":3},\"name\":\"attack\",\"x\":[\"bug\",\"dark\",\"dragon\",\"electric\",\"fairy\",\"fighting\",\"fire\",\"flying\",\"ghost\",\"grass\",\"ground\",\"ice\",\"normal\",\"poison\",\"psychic\",\"rock\",\"steel\",\"water\"],\"y\":[70.125,87.79310344827586,106.4074074074074,70.82051282051282,62.111111111111114,99.17857142857143,81.5,66.66666666666667,72.74074074074075,73.76923076923077,94.8125,73.30434782608695,75.16190476190476,72.65625,65.56603773584905,90.66666666666667,93.08333333333333,73.30701754385964],\"type\":\"scatter\"},{\"line\":{\"width\":3},\"name\":\"defense\",\"x\":[\"bug\",\"dark\",\"dragon\",\"electric\",\"fairy\",\"fighting\",\"fire\",\"flying\",\"ghost\",\"grass\",\"ground\",\"ice\",\"normal\",\"poison\",\"psychic\",\"rock\",\"steel\",\"water\"],\"y\":[70.84722222222223,70.51724137931035,86.25925925925925,61.82051282051282,68.16666666666667,66.39285714285714,67.78846153846153,65.0,79.51851851851852,70.87179487179488,83.90625,71.91304347826087,59.695238095238096,70.03125,69.26415094339623,96.26666666666667,120.20833333333333,73.48245614035088],\"type\":\"scatter\"},{\"line\":{\"width\":3},\"name\":\"sp_attack\",\"x\":[\"bug\",\"dark\",\"dragon\",\"electric\",\"fairy\",\"fighting\",\"fire\",\"flying\",\"ghost\",\"grass\",\"ground\",\"ice\",\"normal\",\"poison\",\"psychic\",\"rock\",\"steel\",\"water\"],\"y\":[56.65277777777778,74.51724137931035,89.5925925925926,87.53846153846153,81.5,50.107142857142854,87.73076923076923,84.0,82.44444444444444,74.32051282051282,51.9375,77.43478260869566,56.98095238095238,61.5625,92.60377358490567,63.2,72.70833333333333,74.06140350877193],\"type\":\"scatter\"},{\"line\":{\"width\":3},\"name\":\"sp_defense\",\"x\":[\"bug\",\"dark\",\"dragon\",\"electric\",\"fairy\",\"fighting\",\"fire\",\"flying\",\"ghost\",\"grass\",\"ground\",\"ice\",\"normal\",\"poison\",\"psychic\",\"rock\",\"steel\",\"water\"],\"y\":[62.513888888888886,69.06896551724138,84.55555555555556,70.05128205128206,87.77777777777777,63.42857142857143,71.53846153846153,70.0,78.29629629629629,69.23076923076923,62.28125,76.1304347826087,63.2,65.53125,85.73584905660377,73.37777777777778,82.20833333333333,71.79824561403508],\"type\":\"scatter\"},{\"line\":{\"width\":3},\"name\":\"speed\",\"x\":[\"bug\",\"dark\",\"dragon\",\"electric\",\"fairy\",\"fighting\",\"fire\",\"flying\",\"ghost\",\"grass\",\"ground\",\"ice\",\"normal\",\"poison\",\"psychic\",\"rock\",\"steel\",\"water\"],\"y\":[63.56944444444444,75.3103448275862,76.11111111111111,85.41025641025641,53.666666666666664,64.28571428571429,73.34615384615384,99.66666666666667,58.333333333333336,59.02564102564103,59.96875,62.73913043478261,69.53333333333333,64.1875,75.15094339622641,57.422222222222224,56.583333333333336,63.921052631578945],\"type\":\"scatter\"}],                        {\"template\":{\"data\":{\"barpolar\":[{\"marker\":{\"line\":{\"color\":\"#E5ECF6\",\"width\":0.5},\"pattern\":{\"fillmode\":\"overlay\",\"size\":10,\"solidity\":0.2}},\"type\":\"barpolar\"}],\"bar\":[{\"error_x\":{\"color\":\"#2a3f5f\"},\"error_y\":{\"color\":\"#2a3f5f\"},\"marker\":{\"line\":{\"color\":\"#E5ECF6\",\"width\":0.5},\"pattern\":{\"fillmode\":\"overlay\",\"size\":10,\"solidity\":0.2}},\"type\":\"bar\"}],\"carpet\":[{\"aaxis\":{\"endlinecolor\":\"#2a3f5f\",\"gridcolor\":\"white\",\"linecolor\":\"white\",\"minorgridcolor\":\"white\",\"startlinecolor\":\"#2a3f5f\"},\"baxis\":{\"endlinecolor\":\"#2a3f5f\",\"gridcolor\":\"white\",\"linecolor\":\"white\",\"minorgridcolor\":\"white\",\"startlinecolor\":\"#2a3f5f\"},\"type\":\"carpet\"}],\"choropleth\":[{\"colorbar\":{\"outlinewidth\":0,\"ticks\":\"\"},\"type\":\"choropleth\"}],\"contourcarpet\":[{\"colorbar\":{\"outlinewidth\":0,\"ticks\":\"\"},\"type\":\"contourcarpet\"}],\"contour\":[{\"colorbar\":{\"outlinewidth\":0,\"ticks\":\"\"},\"colorscale\":[[0.0,\"#0d0887\"],[0.1111111111111111,\"#46039f\"],[0.2222222222222222,\"#7201a8\"],[0.3333333333333333,\"#9c179e\"],[0.4444444444444444,\"#bd3786\"],[0.5555555555555556,\"#d8576b\"],[0.6666666666666666,\"#ed7953\"],[0.7777777777777778,\"#fb9f3a\"],[0.8888888888888888,\"#fdca26\"],[1.0,\"#f0f921\"]],\"type\":\"contour\"}],\"heatmapgl\":[{\"colorbar\":{\"outlinewidth\":0,\"ticks\":\"\"},\"colorscale\":[[0.0,\"#0d0887\"],[0.1111111111111111,\"#46039f\"],[0.2222222222222222,\"#7201a8\"],[0.3333333333333333,\"#9c179e\"],[0.4444444444444444,\"#bd3786\"],[0.5555555555555556,\"#d8576b\"],[0.6666666666666666,\"#ed7953\"],[0.7777777777777778,\"#fb9f3a\"],[0.8888888888888888,\"#fdca26\"],[1.0,\"#f0f921\"]],\"type\":\"heatmapgl\"}],\"heatmap\":[{\"colorbar\":{\"outlinewidth\":0,\"ticks\":\"\"},\"colorscale\":[[0.0,\"#0d0887\"],[0.1111111111111111,\"#46039f\"],[0.2222222222222222,\"#7201a8\"],[0.3333333333333333,\"#9c179e\"],[0.4444444444444444,\"#bd3786\"],[0.5555555555555556,\"#d8576b\"],[0.6666666666666666,\"#ed7953\"],[0.7777777777777778,\"#fb9f3a\"],[0.8888888888888888,\"#fdca26\"],[1.0,\"#f0f921\"]],\"type\":\"heatmap\"}],\"histogram2dcontour\":[{\"colorbar\":{\"outlinewidth\":0,\"ticks\":\"\"},\"colorscale\":[[0.0,\"#0d0887\"],[0.1111111111111111,\"#46039f\"],[0.2222222222222222,\"#7201a8\"],[0.3333333333333333,\"#9c179e\"],[0.4444444444444444,\"#bd3786\"],[0.5555555555555556,\"#d8576b\"],[0.6666666666666666,\"#ed7953\"],[0.7777777777777778,\"#fb9f3a\"],[0.8888888888888888,\"#fdca26\"],[1.0,\"#f0f921\"]],\"type\":\"histogram2dcontour\"}],\"histogram2d\":[{\"colorbar\":{\"outlinewidth\":0,\"ticks\":\"\"},\"colorscale\":[[0.0,\"#0d0887\"],[0.1111111111111111,\"#46039f\"],[0.2222222222222222,\"#7201a8\"],[0.3333333333333333,\"#9c179e\"],[0.4444444444444444,\"#bd3786\"],[0.5555555555555556,\"#d8576b\"],[0.6666666666666666,\"#ed7953\"],[0.7777777777777778,\"#fb9f3a\"],[0.8888888888888888,\"#fdca26\"],[1.0,\"#f0f921\"]],\"type\":\"histogram2d\"}],\"histogram\":[{\"marker\":{\"pattern\":{\"fillmode\":\"overlay\",\"size\":10,\"solidity\":0.2}},\"type\":\"histogram\"}],\"mesh3d\":[{\"colorbar\":{\"outlinewidth\":0,\"ticks\":\"\"},\"type\":\"mesh3d\"}],\"parcoords\":[{\"line\":{\"colorbar\":{\"outlinewidth\":0,\"ticks\":\"\"}},\"type\":\"parcoords\"}],\"pie\":[{\"automargin\":true,\"type\":\"pie\"}],\"scatter3d\":[{\"line\":{\"colorbar\":{\"outlinewidth\":0,\"ticks\":\"\"}},\"marker\":{\"colorbar\":{\"outlinewidth\":0,\"ticks\":\"\"}},\"type\":\"scatter3d\"}],\"scattercarpet\":[{\"marker\":{\"colorbar\":{\"outlinewidth\":0,\"ticks\":\"\"}},\"type\":\"scattercarpet\"}],\"scattergeo\":[{\"marker\":{\"colorbar\":{\"outlinewidth\":0,\"ticks\":\"\"}},\"type\":\"scattergeo\"}],\"scattergl\":[{\"marker\":{\"colorbar\":{\"outlinewidth\":0,\"ticks\":\"\"}},\"type\":\"scattergl\"}],\"scattermapbox\":[{\"marker\":{\"colorbar\":{\"outlinewidth\":0,\"ticks\":\"\"}},\"type\":\"scattermapbox\"}],\"scatterpolargl\":[{\"marker\":{\"colorbar\":{\"outlinewidth\":0,\"ticks\":\"\"}},\"type\":\"scatterpolargl\"}],\"scatterpolar\":[{\"marker\":{\"colorbar\":{\"outlinewidth\":0,\"ticks\":\"\"}},\"type\":\"scatterpolar\"}],\"scatter\":[{\"fillpattern\":{\"fillmode\":\"overlay\",\"size\":10,\"solidity\":0.2},\"type\":\"scatter\"}],\"scatterternary\":[{\"marker\":{\"colorbar\":{\"outlinewidth\":0,\"ticks\":\"\"}},\"type\":\"scatterternary\"}],\"surface\":[{\"colorbar\":{\"outlinewidth\":0,\"ticks\":\"\"},\"colorscale\":[[0.0,\"#0d0887\"],[0.1111111111111111,\"#46039f\"],[0.2222222222222222,\"#7201a8\"],[0.3333333333333333,\"#9c179e\"],[0.4444444444444444,\"#bd3786\"],[0.5555555555555556,\"#d8576b\"],[0.6666666666666666,\"#ed7953\"],[0.7777777777777778,\"#fb9f3a\"],[0.8888888888888888,\"#fdca26\"],[1.0,\"#f0f921\"]],\"type\":\"surface\"}],\"table\":[{\"cells\":{\"fill\":{\"color\":\"#EBF0F8\"},\"line\":{\"color\":\"white\"}},\"header\":{\"fill\":{\"color\":\"#C8D4E3\"},\"line\":{\"color\":\"white\"}},\"type\":\"table\"}]},\"layout\":{\"annotationdefaults\":{\"arrowcolor\":\"#2a3f5f\",\"arrowhead\":0,\"arrowwidth\":1},\"autotypenumbers\":\"strict\",\"coloraxis\":{\"colorbar\":{\"outlinewidth\":0,\"ticks\":\"\"}},\"colorscale\":{\"diverging\":[[0,\"#8e0152\"],[0.1,\"#c51b7d\"],[0.2,\"#de77ae\"],[0.3,\"#f1b6da\"],[0.4,\"#fde0ef\"],[0.5,\"#f7f7f7\"],[0.6,\"#e6f5d0\"],[0.7,\"#b8e186\"],[0.8,\"#7fbc41\"],[0.9,\"#4d9221\"],[1,\"#276419\"]],\"sequential\":[[0.0,\"#0d0887\"],[0.1111111111111111,\"#46039f\"],[0.2222222222222222,\"#7201a8\"],[0.3333333333333333,\"#9c179e\"],[0.4444444444444444,\"#bd3786\"],[0.5555555555555556,\"#d8576b\"],[0.6666666666666666,\"#ed7953\"],[0.7777777777777778,\"#fb9f3a\"],[0.8888888888888888,\"#fdca26\"],[1.0,\"#f0f921\"]],\"sequentialminus\":[[0.0,\"#0d0887\"],[0.1111111111111111,\"#46039f\"],[0.2222222222222222,\"#7201a8\"],[0.3333333333333333,\"#9c179e\"],[0.4444444444444444,\"#bd3786\"],[0.5555555555555556,\"#d8576b\"],[0.6666666666666666,\"#ed7953\"],[0.7777777777777778,\"#fb9f3a\"],[0.8888888888888888,\"#fdca26\"],[1.0,\"#f0f921\"]]},\"colorway\":[\"#636efa\",\"#EF553B\",\"#00cc96\",\"#ab63fa\",\"#FFA15A\",\"#19d3f3\",\"#FF6692\",\"#B6E880\",\"#FF97FF\",\"#FECB52\"],\"font\":{\"color\":\"#2a3f5f\"},\"geo\":{\"bgcolor\":\"white\",\"lakecolor\":\"white\",\"landcolor\":\"#E5ECF6\",\"showlakes\":true,\"showland\":true,\"subunitcolor\":\"white\"},\"hoverlabel\":{\"align\":\"left\"},\"hovermode\":\"closest\",\"mapbox\":{\"style\":\"light\"},\"paper_bgcolor\":\"white\",\"plot_bgcolor\":\"#E5ECF6\",\"polar\":{\"angularaxis\":{\"gridcolor\":\"white\",\"linecolor\":\"white\",\"ticks\":\"\"},\"bgcolor\":\"#E5ECF6\",\"radialaxis\":{\"gridcolor\":\"white\",\"linecolor\":\"white\",\"ticks\":\"\"}},\"scene\":{\"xaxis\":{\"backgroundcolor\":\"#E5ECF6\",\"gridcolor\":\"white\",\"gridwidth\":2,\"linecolor\":\"white\",\"showbackground\":true,\"ticks\":\"\",\"zerolinecolor\":\"white\"},\"yaxis\":{\"backgroundcolor\":\"#E5ECF6\",\"gridcolor\":\"white\",\"gridwidth\":2,\"linecolor\":\"white\",\"showbackground\":true,\"ticks\":\"\",\"zerolinecolor\":\"white\"},\"zaxis\":{\"backgroundcolor\":\"#E5ECF6\",\"gridcolor\":\"white\",\"gridwidth\":2,\"linecolor\":\"white\",\"showbackground\":true,\"ticks\":\"\",\"zerolinecolor\":\"white\"}},\"shapedefaults\":{\"line\":{\"color\":\"#2a3f5f\"}},\"ternary\":{\"aaxis\":{\"gridcolor\":\"white\",\"linecolor\":\"white\",\"ticks\":\"\"},\"baxis\":{\"gridcolor\":\"white\",\"linecolor\":\"white\",\"ticks\":\"\"},\"bgcolor\":\"#E5ECF6\",\"caxis\":{\"gridcolor\":\"white\",\"linecolor\":\"white\",\"ticks\":\"\"}},\"title\":{\"x\":0.05},\"xaxis\":{\"automargin\":true,\"gridcolor\":\"white\",\"linecolor\":\"white\",\"ticks\":\"\",\"title\":{\"standoff\":15},\"zerolinecolor\":\"white\",\"zerolinewidth\":2},\"yaxis\":{\"automargin\":true,\"gridcolor\":\"white\",\"linecolor\":\"white\",\"ticks\":\"\",\"title\":{\"standoff\":15},\"zerolinecolor\":\"white\",\"zerolinewidth\":2}}},\"title\":{\"text\":\"Trend of stats by type1\"},\"xaxis\":{\"title\":{\"text\":\"type1\"}},\"yaxis\":{\"title\":{\"text\":\"Values\"}}},                        {\"responsive\": true}                    ).then(function(){\n",
       "                            \n",
       "var gd = document.getElementById('346fb7a2-333f-41d2-871d-7741e31efc5e');\n",
       "var x = new MutationObserver(function (mutations, observer) {{\n",
       "        var display = window.getComputedStyle(gd).display;\n",
       "        if (!display || display === 'none') {{\n",
       "            console.log([gd, 'removed!']);\n",
       "            Plotly.purge(gd);\n",
       "            observer.disconnect();\n",
       "        }}\n",
       "}});\n",
       "\n",
       "// Listen for the removal of the full notebook cells\n",
       "var notebookContainer = gd.closest('#notebook-container');\n",
       "if (notebookContainer) {{\n",
       "    x.observe(notebookContainer, {childList: true});\n",
       "}}\n",
       "\n",
       "// Listen for the clearing of the current output cell\n",
       "var outputEl = gd.closest('.output');\n",
       "if (outputEl) {{\n",
       "    x.observe(outputEl, {childList: true});\n",
       "}}\n",
       "\n",
       "                        })                };                });            </script>        </div>"
      ]
     },
     "metadata": {},
     "output_type": "display_data"
    }
   ],
   "source": [
    "# Visualizing the trend of stats by type and generation.\n",
    "def stats_by(classifier):\n",
    "    data = []\n",
    "    stats_names = ['hp', 'attack', 'defense', 'sp_attack', 'sp_defense', 'speed']\n",
    "    stats = pokemon.groupby(classifier)[stats_names].mean().reset_index()\n",
    "    for stat in stats_names:\n",
    "        stat_line = go.Scatter(\n",
    "            x=stats[classifier],\n",
    "            y=stats[stat],\n",
    "            name=stat,\n",
    "            line=dict(\n",
    "                width=3,\n",
    "            ),\n",
    "        )\n",
    "\n",
    "        data.append(stat_line)\n",
    "\n",
    "    layout = go.Layout(\n",
    "        title='Trend of stats by {}'.format(classifier),\n",
    "        xaxis=dict(title=classifier),\n",
    "        yaxis=dict(title='Values')\n",
    "    )\n",
    "\n",
    "    trend = go.Figure(data=data, layout=layout)\n",
    "    iplot(trend, filename='trend')\n",
    "\n",
    "\n",
    "stats_by('type1')\n",
    "\n",
    "# TODO: How can we change the stat to examine trends by?\n",
    "# TODO: How can we upper case the stats?\n",
    "# TODO: How can we change the maker symbol (marker_symbol=\"x\",)?"
   ]
  },
  {
   "cell_type": "code",
   "execution_count": null,
   "metadata": {},
   "outputs": [],
   "source": [
    "# Challenge: Scatter Plot of Different Stats, colored by legendary status \n",
    "# (orange for legendary, blue for regular)"
   ]
  }
 ],
 "metadata": {
  "kernelspec": {
   "display_name": "Python 3",
   "language": "python",
   "name": "python3"
  },
  "language_info": {
   "codemirror_mode": {
    "name": "ipython",
    "version": 3
   },
   "file_extension": ".py",
   "mimetype": "text/x-python",
   "name": "python",
   "nbconvert_exporter": "python",
   "pygments_lexer": "ipython3",
   "version": "3.11.1"
  },
  "orig_nbformat": 4
 },
 "nbformat": 4,
 "nbformat_minor": 2
}
